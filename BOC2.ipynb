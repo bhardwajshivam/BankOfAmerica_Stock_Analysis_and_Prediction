{
  "cells": [
    {
      "cell_type": "markdown",
      "metadata": {
        "id": "ROp6sXxC80Q1"
      },
      "source": [
        "#Part-1\n",
        "Questions:\n",
        "1. take W = 5,6,...,30 and consider your data for year 1. For each W in the specified range, compute your average P/L per trade and plot it: on x-axis you plot the values of W and on the y axis you plot profit and loss per trade. What is the optimal value W∗ of W?\n",
        "2. use the value of W ∗ from year 1 and consider year 2. For every day in year 2, take the previous W∗ days, compute linear regression and compute the value of r2 for that day. Plot the graph of r2 for year 2. What is the average r2. How well does it explain price movements?\n",
        "3. take the optimal value of W ∗ from year 1 and use it to implement the above trading strategy for year 2. How many ”long position” and ’short position” transactions did you have in year 2?\n",
        "4. what is the average profit/loss per ”long position” trade and per ”short position” trades in year 2?\n",
        "5. what is the average number of days for long position and short position transactions in year 2?\n",
        "6. are these results very different from those in year 1 for this value of W∗?"
      ]
    },
    {
      "cell_type": "code",
      "execution_count": 1,
      "metadata": {
        "id": "pjLwTFnJqD2y"
      },
      "outputs": [],
      "source": [
        "import pandas as pd\n",
        "import numpy as np"
      ]
    },
    {
      "cell_type": "code",
      "execution_count": 2,
      "metadata": {
        "id": "OrCDyGiQqTop"
      },
      "outputs": [],
      "source": [
        "df = pd.read_csv('/content/BOC.csv')"
      ]
    },
    {
      "cell_type": "code",
      "execution_count": 3,
      "metadata": {
        "colab": {
          "base_uri": "https://localhost:8080/",
          "height": 638
        },
        "id": "sgOGRKMSsuXk",
        "outputId": "a8360cc4-427d-48b2-b6d1-367a609b98d4"
      },
      "outputs": [
        {
          "data": {
            "text/html": [
              "\n",
              "  <div id=\"df-5b01028f-e09c-4c69-8477-166f912bc89b\">\n",
              "    <div class=\"colab-df-container\">\n",
              "      <div>\n",
              "<style scoped>\n",
              "    .dataframe tbody tr th:only-of-type {\n",
              "        vertical-align: middle;\n",
              "    }\n",
              "\n",
              "    .dataframe tbody tr th {\n",
              "        vertical-align: top;\n",
              "    }\n",
              "\n",
              "    .dataframe thead th {\n",
              "        text-align: right;\n",
              "    }\n",
              "</style>\n",
              "<table border=\"1\" class=\"dataframe\">\n",
              "  <thead>\n",
              "    <tr style=\"text-align: right;\">\n",
              "      <th></th>\n",
              "      <th>Date</th>\n",
              "      <th>Year</th>\n",
              "      <th>Month</th>\n",
              "      <th>Day</th>\n",
              "      <th>Weekday</th>\n",
              "      <th>Week_Number</th>\n",
              "      <th>Year_Week</th>\n",
              "      <th>Open</th>\n",
              "      <th>High</th>\n",
              "      <th>Low</th>\n",
              "      <th>Close</th>\n",
              "      <th>Volume</th>\n",
              "      <th>Adj Close</th>\n",
              "      <th>Return</th>\n",
              "      <th>Short_MA</th>\n",
              "      <th>Long_MA</th>\n",
              "    </tr>\n",
              "  </thead>\n",
              "  <tbody>\n",
              "    <tr>\n",
              "      <th>0</th>\n",
              "      <td>2017-06-13</td>\n",
              "      <td>2017</td>\n",
              "      <td>6</td>\n",
              "      <td>13</td>\n",
              "      <td>Tuesday</td>\n",
              "      <td>24</td>\n",
              "      <td>2017-24</td>\n",
              "      <td>22.00</td>\n",
              "      <td>22.00</td>\n",
              "      <td>22.00</td>\n",
              "      <td>22.00</td>\n",
              "      <td>100</td>\n",
              "      <td>22.00</td>\n",
              "      <td>0.000000</td>\n",
              "      <td>22.000000</td>\n",
              "      <td>22.0000</td>\n",
              "    </tr>\n",
              "    <tr>\n",
              "      <th>1</th>\n",
              "      <td>2017-06-14</td>\n",
              "      <td>2017</td>\n",
              "      <td>6</td>\n",
              "      <td>14</td>\n",
              "      <td>Wednesday</td>\n",
              "      <td>24</td>\n",
              "      <td>2017-24</td>\n",
              "      <td>22.00</td>\n",
              "      <td>22.00</td>\n",
              "      <td>22.00</td>\n",
              "      <td>22.00</td>\n",
              "      <td>0</td>\n",
              "      <td>22.00</td>\n",
              "      <td>0.000000</td>\n",
              "      <td>22.000000</td>\n",
              "      <td>22.0000</td>\n",
              "    </tr>\n",
              "    <tr>\n",
              "      <th>2</th>\n",
              "      <td>2017-06-15</td>\n",
              "      <td>2017</td>\n",
              "      <td>6</td>\n",
              "      <td>15</td>\n",
              "      <td>Thursday</td>\n",
              "      <td>24</td>\n",
              "      <td>2017-24</td>\n",
              "      <td>22.00</td>\n",
              "      <td>22.00</td>\n",
              "      <td>22.00</td>\n",
              "      <td>22.00</td>\n",
              "      <td>0</td>\n",
              "      <td>22.00</td>\n",
              "      <td>0.000000</td>\n",
              "      <td>22.000000</td>\n",
              "      <td>22.0000</td>\n",
              "    </tr>\n",
              "    <tr>\n",
              "      <th>3</th>\n",
              "      <td>2017-06-16</td>\n",
              "      <td>2017</td>\n",
              "      <td>6</td>\n",
              "      <td>16</td>\n",
              "      <td>Friday</td>\n",
              "      <td>24</td>\n",
              "      <td>2017-24</td>\n",
              "      <td>13.00</td>\n",
              "      <td>14.99</td>\n",
              "      <td>12.96</td>\n",
              "      <td>13.20</td>\n",
              "      <td>444100</td>\n",
              "      <td>13.20</td>\n",
              "      <td>-0.400000</td>\n",
              "      <td>19.800000</td>\n",
              "      <td>19.8000</td>\n",
              "    </tr>\n",
              "    <tr>\n",
              "      <th>4</th>\n",
              "      <td>2017-06-19</td>\n",
              "      <td>2017</td>\n",
              "      <td>6</td>\n",
              "      <td>19</td>\n",
              "      <td>Monday</td>\n",
              "      <td>25</td>\n",
              "      <td>2017-25</td>\n",
              "      <td>17.26</td>\n",
              "      <td>18.84</td>\n",
              "      <td>13.27</td>\n",
              "      <td>13.56</td>\n",
              "      <td>87600</td>\n",
              "      <td>13.56</td>\n",
              "      <td>0.027273</td>\n",
              "      <td>18.552000</td>\n",
              "      <td>18.5520</td>\n",
              "    </tr>\n",
              "    <tr>\n",
              "      <th>...</th>\n",
              "      <td>...</td>\n",
              "      <td>...</td>\n",
              "      <td>...</td>\n",
              "      <td>...</td>\n",
              "      <td>...</td>\n",
              "      <td>...</td>\n",
              "      <td>...</td>\n",
              "      <td>...</td>\n",
              "      <td>...</td>\n",
              "      <td>...</td>\n",
              "      <td>...</td>\n",
              "      <td>...</td>\n",
              "      <td>...</td>\n",
              "      <td>...</td>\n",
              "      <td>...</td>\n",
              "      <td>...</td>\n",
              "    </tr>\n",
              "    <tr>\n",
              "      <th>1142</th>\n",
              "      <td>2021-12-23</td>\n",
              "      <td>2021</td>\n",
              "      <td>12</td>\n",
              "      <td>23</td>\n",
              "      <td>Thursday</td>\n",
              "      <td>51</td>\n",
              "      <td>2021-51</td>\n",
              "      <td>28.70</td>\n",
              "      <td>29.30</td>\n",
              "      <td>28.30</td>\n",
              "      <td>29.23</td>\n",
              "      <td>81000</td>\n",
              "      <td>29.23</td>\n",
              "      <td>0.034690</td>\n",
              "      <td>28.075714</td>\n",
              "      <td>31.9574</td>\n",
              "    </tr>\n",
              "    <tr>\n",
              "      <th>1143</th>\n",
              "      <td>2021-12-27</td>\n",
              "      <td>2021</td>\n",
              "      <td>12</td>\n",
              "      <td>27</td>\n",
              "      <td>Monday</td>\n",
              "      <td>52</td>\n",
              "      <td>2021-52</td>\n",
              "      <td>29.48</td>\n",
              "      <td>29.75</td>\n",
              "      <td>28.83</td>\n",
              "      <td>29.33</td>\n",
              "      <td>94900</td>\n",
              "      <td>29.33</td>\n",
              "      <td>0.003421</td>\n",
              "      <td>28.134286</td>\n",
              "      <td>31.7998</td>\n",
              "    </tr>\n",
              "    <tr>\n",
              "      <th>1144</th>\n",
              "      <td>2021-12-28</td>\n",
              "      <td>2021</td>\n",
              "      <td>12</td>\n",
              "      <td>28</td>\n",
              "      <td>Tuesday</td>\n",
              "      <td>52</td>\n",
              "      <td>2021-52</td>\n",
              "      <td>29.18</td>\n",
              "      <td>29.67</td>\n",
              "      <td>28.47</td>\n",
              "      <td>28.73</td>\n",
              "      <td>77700</td>\n",
              "      <td>28.73</td>\n",
              "      <td>-0.020457</td>\n",
              "      <td>28.131429</td>\n",
              "      <td>31.6278</td>\n",
              "    </tr>\n",
              "    <tr>\n",
              "      <th>1145</th>\n",
              "      <td>2021-12-29</td>\n",
              "      <td>2021</td>\n",
              "      <td>12</td>\n",
              "      <td>29</td>\n",
              "      <td>Wednesday</td>\n",
              "      <td>52</td>\n",
              "      <td>2021-52</td>\n",
              "      <td>28.80</td>\n",
              "      <td>29.22</td>\n",
              "      <td>28.33</td>\n",
              "      <td>28.48</td>\n",
              "      <td>74200</td>\n",
              "      <td>28.48</td>\n",
              "      <td>-0.008702</td>\n",
              "      <td>28.073571</td>\n",
              "      <td>31.4724</td>\n",
              "    </tr>\n",
              "    <tr>\n",
              "      <th>1146</th>\n",
              "      <td>2021-12-30</td>\n",
              "      <td>2021</td>\n",
              "      <td>12</td>\n",
              "      <td>30</td>\n",
              "      <td>Thursday</td>\n",
              "      <td>52</td>\n",
              "      <td>2021-52</td>\n",
              "      <td>28.38</td>\n",
              "      <td>29.47</td>\n",
              "      <td>28.38</td>\n",
              "      <td>28.97</td>\n",
              "      <td>64200</td>\n",
              "      <td>28.97</td>\n",
              "      <td>0.017205</td>\n",
              "      <td>28.138571</td>\n",
              "      <td>31.3314</td>\n",
              "    </tr>\n",
              "  </tbody>\n",
              "</table>\n",
              "<p>1147 rows × 16 columns</p>\n",
              "</div>\n",
              "      <button class=\"colab-df-convert\" onclick=\"convertToInteractive('df-5b01028f-e09c-4c69-8477-166f912bc89b')\"\n",
              "              title=\"Convert this dataframe to an interactive table.\"\n",
              "              style=\"display:none;\">\n",
              "        \n",
              "  <svg xmlns=\"http://www.w3.org/2000/svg\" height=\"24px\"viewBox=\"0 0 24 24\"\n",
              "       width=\"24px\">\n",
              "    <path d=\"M0 0h24v24H0V0z\" fill=\"none\"/>\n",
              "    <path d=\"M18.56 5.44l.94 2.06.94-2.06 2.06-.94-2.06-.94-.94-2.06-.94 2.06-2.06.94zm-11 1L8.5 8.5l.94-2.06 2.06-.94-2.06-.94L8.5 2.5l-.94 2.06-2.06.94zm10 10l.94 2.06.94-2.06 2.06-.94-2.06-.94-.94-2.06-.94 2.06-2.06.94z\"/><path d=\"M17.41 7.96l-1.37-1.37c-.4-.4-.92-.59-1.43-.59-.52 0-1.04.2-1.43.59L10.3 9.45l-7.72 7.72c-.78.78-.78 2.05 0 2.83L4 21.41c.39.39.9.59 1.41.59.51 0 1.02-.2 1.41-.59l7.78-7.78 2.81-2.81c.8-.78.8-2.07 0-2.86zM5.41 20L4 18.59l7.72-7.72 1.47 1.35L5.41 20z\"/>\n",
              "  </svg>\n",
              "      </button>\n",
              "      \n",
              "  <style>\n",
              "    .colab-df-container {\n",
              "      display:flex;\n",
              "      flex-wrap:wrap;\n",
              "      gap: 12px;\n",
              "    }\n",
              "\n",
              "    .colab-df-convert {\n",
              "      background-color: #E8F0FE;\n",
              "      border: none;\n",
              "      border-radius: 50%;\n",
              "      cursor: pointer;\n",
              "      display: none;\n",
              "      fill: #1967D2;\n",
              "      height: 32px;\n",
              "      padding: 0 0 0 0;\n",
              "      width: 32px;\n",
              "    }\n",
              "\n",
              "    .colab-df-convert:hover {\n",
              "      background-color: #E2EBFA;\n",
              "      box-shadow: 0px 1px 2px rgba(60, 64, 67, 0.3), 0px 1px 3px 1px rgba(60, 64, 67, 0.15);\n",
              "      fill: #174EA6;\n",
              "    }\n",
              "\n",
              "    [theme=dark] .colab-df-convert {\n",
              "      background-color: #3B4455;\n",
              "      fill: #D2E3FC;\n",
              "    }\n",
              "\n",
              "    [theme=dark] .colab-df-convert:hover {\n",
              "      background-color: #434B5C;\n",
              "      box-shadow: 0px 1px 3px 1px rgba(0, 0, 0, 0.15);\n",
              "      filter: drop-shadow(0px 1px 2px rgba(0, 0, 0, 0.3));\n",
              "      fill: #FFFFFF;\n",
              "    }\n",
              "  </style>\n",
              "\n",
              "      <script>\n",
              "        const buttonEl =\n",
              "          document.querySelector('#df-5b01028f-e09c-4c69-8477-166f912bc89b button.colab-df-convert');\n",
              "        buttonEl.style.display =\n",
              "          google.colab.kernel.accessAllowed ? 'block' : 'none';\n",
              "\n",
              "        async function convertToInteractive(key) {\n",
              "          const element = document.querySelector('#df-5b01028f-e09c-4c69-8477-166f912bc89b');\n",
              "          const dataTable =\n",
              "            await google.colab.kernel.invokeFunction('convertToInteractive',\n",
              "                                                     [key], {});\n",
              "          if (!dataTable) return;\n",
              "\n",
              "          const docLinkHtml = 'Like what you see? Visit the ' +\n",
              "            '<a target=\"_blank\" href=https://colab.research.google.com/notebooks/data_table.ipynb>data table notebook</a>'\n",
              "            + ' to learn more about interactive tables.';\n",
              "          element.innerHTML = '';\n",
              "          dataTable['output_type'] = 'display_data';\n",
              "          await google.colab.output.renderOutput(dataTable, element);\n",
              "          const docLink = document.createElement('div');\n",
              "          docLink.innerHTML = docLinkHtml;\n",
              "          element.appendChild(docLink);\n",
              "        }\n",
              "      </script>\n",
              "    </div>\n",
              "  </div>\n",
              "  "
            ],
            "text/plain": [
              "            Date  Year  Month  Day    Weekday  Week_Number Year_Week   Open  \\\n",
              "0     2017-06-13  2017      6   13    Tuesday           24   2017-24  22.00   \n",
              "1     2017-06-14  2017      6   14  Wednesday           24   2017-24  22.00   \n",
              "2     2017-06-15  2017      6   15   Thursday           24   2017-24  22.00   \n",
              "3     2017-06-16  2017      6   16     Friday           24   2017-24  13.00   \n",
              "4     2017-06-19  2017      6   19     Monday           25   2017-25  17.26   \n",
              "...          ...   ...    ...  ...        ...          ...       ...    ...   \n",
              "1142  2021-12-23  2021     12   23   Thursday           51   2021-51  28.70   \n",
              "1143  2021-12-27  2021     12   27     Monday           52   2021-52  29.48   \n",
              "1144  2021-12-28  2021     12   28    Tuesday           52   2021-52  29.18   \n",
              "1145  2021-12-29  2021     12   29  Wednesday           52   2021-52  28.80   \n",
              "1146  2021-12-30  2021     12   30   Thursday           52   2021-52  28.38   \n",
              "\n",
              "       High    Low  Close  Volume  Adj Close    Return   Short_MA  Long_MA  \n",
              "0     22.00  22.00  22.00     100      22.00  0.000000  22.000000  22.0000  \n",
              "1     22.00  22.00  22.00       0      22.00  0.000000  22.000000  22.0000  \n",
              "2     22.00  22.00  22.00       0      22.00  0.000000  22.000000  22.0000  \n",
              "3     14.99  12.96  13.20  444100      13.20 -0.400000  19.800000  19.8000  \n",
              "4     18.84  13.27  13.56   87600      13.56  0.027273  18.552000  18.5520  \n",
              "...     ...    ...    ...     ...        ...       ...        ...      ...  \n",
              "1142  29.30  28.30  29.23   81000      29.23  0.034690  28.075714  31.9574  \n",
              "1143  29.75  28.83  29.33   94900      29.33  0.003421  28.134286  31.7998  \n",
              "1144  29.67  28.47  28.73   77700      28.73 -0.020457  28.131429  31.6278  \n",
              "1145  29.22  28.33  28.48   74200      28.48 -0.008702  28.073571  31.4724  \n",
              "1146  29.47  28.38  28.97   64200      28.97  0.017205  28.138571  31.3314  \n",
              "\n",
              "[1147 rows x 16 columns]"
            ]
          },
          "execution_count": 3,
          "metadata": {},
          "output_type": "execute_result"
        }
      ],
      "source": [
        "df"
      ]
    },
    {
      "cell_type": "code",
      "execution_count": 4,
      "metadata": {
        "colab": {
          "base_uri": "https://localhost:8080/",
          "height": 638
        },
        "id": "OcBgxPlm2kjL",
        "outputId": "cc931d49-48dc-4208-c0a2-ac03292f02ad"
      },
      "outputs": [
        {
          "data": {
            "text/html": [
              "\n",
              "  <div id=\"df-a7bead9b-b7c9-4697-b0fc-c809a16a4dae\">\n",
              "    <div class=\"colab-df-container\">\n",
              "      <div>\n",
              "<style scoped>\n",
              "    .dataframe tbody tr th:only-of-type {\n",
              "        vertical-align: middle;\n",
              "    }\n",
              "\n",
              "    .dataframe tbody tr th {\n",
              "        vertical-align: top;\n",
              "    }\n",
              "\n",
              "    .dataframe thead th {\n",
              "        text-align: right;\n",
              "    }\n",
              "</style>\n",
              "<table border=\"1\" class=\"dataframe\">\n",
              "  <thead>\n",
              "    <tr style=\"text-align: right;\">\n",
              "      <th></th>\n",
              "      <th>Date</th>\n",
              "      <th>Year</th>\n",
              "      <th>Month</th>\n",
              "      <th>Day</th>\n",
              "      <th>Weekday</th>\n",
              "      <th>Week_Number</th>\n",
              "      <th>Year_Week</th>\n",
              "      <th>Open</th>\n",
              "      <th>High</th>\n",
              "      <th>Low</th>\n",
              "      <th>Close</th>\n",
              "      <th>Volume</th>\n",
              "      <th>Adj Close</th>\n",
              "      <th>Return</th>\n",
              "      <th>Short_MA</th>\n",
              "      <th>Long_MA</th>\n",
              "    </tr>\n",
              "  </thead>\n",
              "  <tbody>\n",
              "    <tr>\n",
              "      <th>643</th>\n",
              "      <td>2020-01-02</td>\n",
              "      <td>2020</td>\n",
              "      <td>1</td>\n",
              "      <td>2</td>\n",
              "      <td>Thursday</td>\n",
              "      <td>0</td>\n",
              "      <td>2020-00</td>\n",
              "      <td>21.15</td>\n",
              "      <td>21.40</td>\n",
              "      <td>20.81</td>\n",
              "      <td>21.38</td>\n",
              "      <td>33600</td>\n",
              "      <td>21.38</td>\n",
              "      <td>0.016160</td>\n",
              "      <td>21.149286</td>\n",
              "      <td>21.4500</td>\n",
              "    </tr>\n",
              "    <tr>\n",
              "      <th>644</th>\n",
              "      <td>2020-01-03</td>\n",
              "      <td>2020</td>\n",
              "      <td>1</td>\n",
              "      <td>3</td>\n",
              "      <td>Friday</td>\n",
              "      <td>0</td>\n",
              "      <td>2020-00</td>\n",
              "      <td>21.19</td>\n",
              "      <td>21.61</td>\n",
              "      <td>21.19</td>\n",
              "      <td>21.49</td>\n",
              "      <td>20300</td>\n",
              "      <td>21.49</td>\n",
              "      <td>0.005145</td>\n",
              "      <td>21.172143</td>\n",
              "      <td>21.4818</td>\n",
              "    </tr>\n",
              "    <tr>\n",
              "      <th>645</th>\n",
              "      <td>2020-01-06</td>\n",
              "      <td>2020</td>\n",
              "      <td>1</td>\n",
              "      <td>6</td>\n",
              "      <td>Monday</td>\n",
              "      <td>1</td>\n",
              "      <td>2020-01</td>\n",
              "      <td>21.47</td>\n",
              "      <td>21.66</td>\n",
              "      <td>21.26</td>\n",
              "      <td>21.60</td>\n",
              "      <td>30300</td>\n",
              "      <td>21.60</td>\n",
              "      <td>0.005119</td>\n",
              "      <td>21.166429</td>\n",
              "      <td>21.5150</td>\n",
              "    </tr>\n",
              "    <tr>\n",
              "      <th>646</th>\n",
              "      <td>2020-01-07</td>\n",
              "      <td>2020</td>\n",
              "      <td>1</td>\n",
              "      <td>7</td>\n",
              "      <td>Tuesday</td>\n",
              "      <td>1</td>\n",
              "      <td>2020-01</td>\n",
              "      <td>21.55</td>\n",
              "      <td>21.68</td>\n",
              "      <td>21.37</td>\n",
              "      <td>21.42</td>\n",
              "      <td>22500</td>\n",
              "      <td>21.42</td>\n",
              "      <td>-0.008333</td>\n",
              "      <td>21.179286</td>\n",
              "      <td>21.5476</td>\n",
              "    </tr>\n",
              "    <tr>\n",
              "      <th>647</th>\n",
              "      <td>2020-01-08</td>\n",
              "      <td>2020</td>\n",
              "      <td>1</td>\n",
              "      <td>8</td>\n",
              "      <td>Wednesday</td>\n",
              "      <td>1</td>\n",
              "      <td>2020-01</td>\n",
              "      <td>21.42</td>\n",
              "      <td>21.85</td>\n",
              "      <td>21.25</td>\n",
              "      <td>21.63</td>\n",
              "      <td>42700</td>\n",
              "      <td>21.63</td>\n",
              "      <td>0.009804</td>\n",
              "      <td>21.226429</td>\n",
              "      <td>21.5856</td>\n",
              "    </tr>\n",
              "    <tr>\n",
              "      <th>...</th>\n",
              "      <td>...</td>\n",
              "      <td>...</td>\n",
              "      <td>...</td>\n",
              "      <td>...</td>\n",
              "      <td>...</td>\n",
              "      <td>...</td>\n",
              "      <td>...</td>\n",
              "      <td>...</td>\n",
              "      <td>...</td>\n",
              "      <td>...</td>\n",
              "      <td>...</td>\n",
              "      <td>...</td>\n",
              "      <td>...</td>\n",
              "      <td>...</td>\n",
              "      <td>...</td>\n",
              "      <td>...</td>\n",
              "    </tr>\n",
              "    <tr>\n",
              "      <th>891</th>\n",
              "      <td>2020-12-24</td>\n",
              "      <td>2020</td>\n",
              "      <td>12</td>\n",
              "      <td>24</td>\n",
              "      <td>Thursday</td>\n",
              "      <td>51</td>\n",
              "      <td>2020-51</td>\n",
              "      <td>25.87</td>\n",
              "      <td>26.54</td>\n",
              "      <td>25.84</td>\n",
              "      <td>26.01</td>\n",
              "      <td>43300</td>\n",
              "      <td>26.01</td>\n",
              "      <td>0.016016</td>\n",
              "      <td>24.037143</td>\n",
              "      <td>20.5550</td>\n",
              "    </tr>\n",
              "    <tr>\n",
              "      <th>892</th>\n",
              "      <td>2020-12-28</td>\n",
              "      <td>2020</td>\n",
              "      <td>12</td>\n",
              "      <td>28</td>\n",
              "      <td>Monday</td>\n",
              "      <td>52</td>\n",
              "      <td>2020-52</td>\n",
              "      <td>26.01</td>\n",
              "      <td>27.19</td>\n",
              "      <td>25.95</td>\n",
              "      <td>26.88</td>\n",
              "      <td>121800</td>\n",
              "      <td>26.88</td>\n",
              "      <td>0.033449</td>\n",
              "      <td>24.267857</td>\n",
              "      <td>20.7450</td>\n",
              "    </tr>\n",
              "    <tr>\n",
              "      <th>893</th>\n",
              "      <td>2020-12-29</td>\n",
              "      <td>2020</td>\n",
              "      <td>12</td>\n",
              "      <td>29</td>\n",
              "      <td>Tuesday</td>\n",
              "      <td>52</td>\n",
              "      <td>2020-52</td>\n",
              "      <td>26.90</td>\n",
              "      <td>26.94</td>\n",
              "      <td>25.94</td>\n",
              "      <td>26.32</td>\n",
              "      <td>66500</td>\n",
              "      <td>26.32</td>\n",
              "      <td>-0.020833</td>\n",
              "      <td>24.491429</td>\n",
              "      <td>20.9176</td>\n",
              "    </tr>\n",
              "    <tr>\n",
              "      <th>894</th>\n",
              "      <td>2020-12-30</td>\n",
              "      <td>2020</td>\n",
              "      <td>12</td>\n",
              "      <td>30</td>\n",
              "      <td>Wednesday</td>\n",
              "      <td>52</td>\n",
              "      <td>2020-52</td>\n",
              "      <td>26.35</td>\n",
              "      <td>27.93</td>\n",
              "      <td>26.27</td>\n",
              "      <td>27.15</td>\n",
              "      <td>66000</td>\n",
              "      <td>27.15</td>\n",
              "      <td>0.031535</td>\n",
              "      <td>24.800000</td>\n",
              "      <td>21.1204</td>\n",
              "    </tr>\n",
              "    <tr>\n",
              "      <th>895</th>\n",
              "      <td>2020-12-31</td>\n",
              "      <td>2020</td>\n",
              "      <td>12</td>\n",
              "      <td>31</td>\n",
              "      <td>Thursday</td>\n",
              "      <td>52</td>\n",
              "      <td>2020-52</td>\n",
              "      <td>27.29</td>\n",
              "      <td>27.73</td>\n",
              "      <td>26.72</td>\n",
              "      <td>27.65</td>\n",
              "      <td>56400</td>\n",
              "      <td>27.65</td>\n",
              "      <td>0.018416</td>\n",
              "      <td>25.142143</td>\n",
              "      <td>21.3306</td>\n",
              "    </tr>\n",
              "  </tbody>\n",
              "</table>\n",
              "<p>253 rows × 16 columns</p>\n",
              "</div>\n",
              "      <button class=\"colab-df-convert\" onclick=\"convertToInteractive('df-a7bead9b-b7c9-4697-b0fc-c809a16a4dae')\"\n",
              "              title=\"Convert this dataframe to an interactive table.\"\n",
              "              style=\"display:none;\">\n",
              "        \n",
              "  <svg xmlns=\"http://www.w3.org/2000/svg\" height=\"24px\"viewBox=\"0 0 24 24\"\n",
              "       width=\"24px\">\n",
              "    <path d=\"M0 0h24v24H0V0z\" fill=\"none\"/>\n",
              "    <path d=\"M18.56 5.44l.94 2.06.94-2.06 2.06-.94-2.06-.94-.94-2.06-.94 2.06-2.06.94zm-11 1L8.5 8.5l.94-2.06 2.06-.94-2.06-.94L8.5 2.5l-.94 2.06-2.06.94zm10 10l.94 2.06.94-2.06 2.06-.94-2.06-.94-.94-2.06-.94 2.06-2.06.94z\"/><path d=\"M17.41 7.96l-1.37-1.37c-.4-.4-.92-.59-1.43-.59-.52 0-1.04.2-1.43.59L10.3 9.45l-7.72 7.72c-.78.78-.78 2.05 0 2.83L4 21.41c.39.39.9.59 1.41.59.51 0 1.02-.2 1.41-.59l7.78-7.78 2.81-2.81c.8-.78.8-2.07 0-2.86zM5.41 20L4 18.59l7.72-7.72 1.47 1.35L5.41 20z\"/>\n",
              "  </svg>\n",
              "      </button>\n",
              "      \n",
              "  <style>\n",
              "    .colab-df-container {\n",
              "      display:flex;\n",
              "      flex-wrap:wrap;\n",
              "      gap: 12px;\n",
              "    }\n",
              "\n",
              "    .colab-df-convert {\n",
              "      background-color: #E8F0FE;\n",
              "      border: none;\n",
              "      border-radius: 50%;\n",
              "      cursor: pointer;\n",
              "      display: none;\n",
              "      fill: #1967D2;\n",
              "      height: 32px;\n",
              "      padding: 0 0 0 0;\n",
              "      width: 32px;\n",
              "    }\n",
              "\n",
              "    .colab-df-convert:hover {\n",
              "      background-color: #E2EBFA;\n",
              "      box-shadow: 0px 1px 2px rgba(60, 64, 67, 0.3), 0px 1px 3px 1px rgba(60, 64, 67, 0.15);\n",
              "      fill: #174EA6;\n",
              "    }\n",
              "\n",
              "    [theme=dark] .colab-df-convert {\n",
              "      background-color: #3B4455;\n",
              "      fill: #D2E3FC;\n",
              "    }\n",
              "\n",
              "    [theme=dark] .colab-df-convert:hover {\n",
              "      background-color: #434B5C;\n",
              "      box-shadow: 0px 1px 3px 1px rgba(0, 0, 0, 0.15);\n",
              "      filter: drop-shadow(0px 1px 2px rgba(0, 0, 0, 0.3));\n",
              "      fill: #FFFFFF;\n",
              "    }\n",
              "  </style>\n",
              "\n",
              "      <script>\n",
              "        const buttonEl =\n",
              "          document.querySelector('#df-a7bead9b-b7c9-4697-b0fc-c809a16a4dae button.colab-df-convert');\n",
              "        buttonEl.style.display =\n",
              "          google.colab.kernel.accessAllowed ? 'block' : 'none';\n",
              "\n",
              "        async function convertToInteractive(key) {\n",
              "          const element = document.querySelector('#df-a7bead9b-b7c9-4697-b0fc-c809a16a4dae');\n",
              "          const dataTable =\n",
              "            await google.colab.kernel.invokeFunction('convertToInteractive',\n",
              "                                                     [key], {});\n",
              "          if (!dataTable) return;\n",
              "\n",
              "          const docLinkHtml = 'Like what you see? Visit the ' +\n",
              "            '<a target=\"_blank\" href=https://colab.research.google.com/notebooks/data_table.ipynb>data table notebook</a>'\n",
              "            + ' to learn more about interactive tables.';\n",
              "          element.innerHTML = '';\n",
              "          dataTable['output_type'] = 'display_data';\n",
              "          await google.colab.output.renderOutput(dataTable, element);\n",
              "          const docLink = document.createElement('div');\n",
              "          docLink.innerHTML = docLinkHtml;\n",
              "          element.appendChild(docLink);\n",
              "        }\n",
              "      </script>\n",
              "    </div>\n",
              "  </div>\n",
              "  "
            ],
            "text/plain": [
              "           Date  Year  Month  Day    Weekday  Week_Number Year_Week   Open  \\\n",
              "643  2020-01-02  2020      1    2   Thursday            0   2020-00  21.15   \n",
              "644  2020-01-03  2020      1    3     Friday            0   2020-00  21.19   \n",
              "645  2020-01-06  2020      1    6     Monday            1   2020-01  21.47   \n",
              "646  2020-01-07  2020      1    7    Tuesday            1   2020-01  21.55   \n",
              "647  2020-01-08  2020      1    8  Wednesday            1   2020-01  21.42   \n",
              "..          ...   ...    ...  ...        ...          ...       ...    ...   \n",
              "891  2020-12-24  2020     12   24   Thursday           51   2020-51  25.87   \n",
              "892  2020-12-28  2020     12   28     Monday           52   2020-52  26.01   \n",
              "893  2020-12-29  2020     12   29    Tuesday           52   2020-52  26.90   \n",
              "894  2020-12-30  2020     12   30  Wednesday           52   2020-52  26.35   \n",
              "895  2020-12-31  2020     12   31   Thursday           52   2020-52  27.29   \n",
              "\n",
              "      High    Low  Close  Volume  Adj Close    Return   Short_MA  Long_MA  \n",
              "643  21.40  20.81  21.38   33600      21.38  0.016160  21.149286  21.4500  \n",
              "644  21.61  21.19  21.49   20300      21.49  0.005145  21.172143  21.4818  \n",
              "645  21.66  21.26  21.60   30300      21.60  0.005119  21.166429  21.5150  \n",
              "646  21.68  21.37  21.42   22500      21.42 -0.008333  21.179286  21.5476  \n",
              "647  21.85  21.25  21.63   42700      21.63  0.009804  21.226429  21.5856  \n",
              "..     ...    ...    ...     ...        ...       ...        ...      ...  \n",
              "891  26.54  25.84  26.01   43300      26.01  0.016016  24.037143  20.5550  \n",
              "892  27.19  25.95  26.88  121800      26.88  0.033449  24.267857  20.7450  \n",
              "893  26.94  25.94  26.32   66500      26.32 -0.020833  24.491429  20.9176  \n",
              "894  27.93  26.27  27.15   66000      27.15  0.031535  24.800000  21.1204  \n",
              "895  27.73  26.72  27.65   56400      27.65  0.018416  25.142143  21.3306  \n",
              "\n",
              "[253 rows x 16 columns]"
            ]
          },
          "execution_count": 4,
          "metadata": {},
          "output_type": "execute_result"
        }
      ],
      "source": [
        "df[-504:-251]"
      ]
    },
    {
      "cell_type": "code",
      "execution_count": 5,
      "metadata": {
        "id": "MBDgNzKkswU_"
      },
      "outputs": [],
      "source": [
        "df1 = df[-504:-251] #year1 : 2020"
      ]
    },
    {
      "cell_type": "code",
      "execution_count": 6,
      "metadata": {
        "id": "4Mc6xBXRwVxs"
      },
      "outputs": [],
      "source": [
        "train = df1['Adj Close']\n",
        "train = train.reset_index()\n",
        "prices = train['Adj Close']"
      ]
    },
    {
      "cell_type": "code",
      "execution_count": 7,
      "metadata": {
        "id": "lz306F0kr3pP"
      },
      "outputs": [],
      "source": [
        "from sklearn.linear_model import LinearRegression"
      ]
    },
    {
      "cell_type": "code",
      "execution_count": 8,
      "metadata": {
        "id": "qQEJ0j9U3E62"
      },
      "outputs": [],
      "source": [
        "def linReg(prices, w):\n",
        "  p = 0 #(0 for no position, 1 for long, 2 for short)\n",
        "  shares_B = 0\n",
        "  shares_S = 0\n",
        "  pnl = []\n",
        "  for i in range(len(prices)-w):\n",
        "    x_train = [j for j in range(w)]\n",
        "    y_train = prices[i:i+w]\n",
        "    x_test = w\n",
        "    y_test = prices[i+w]\n",
        "    x_train = np.array(x_train)\n",
        "    x_test = np.array(x_test)\n",
        "    x_train= x_train.reshape(-1, 1)\n",
        "    x_test = x_test.reshape(-1, 1)\n",
        "    model = LinearRegression()\n",
        "    model.fit(x_train, y_train)\n",
        "    y_pred = model.predict(x_test)\n",
        "    last_p = y_train[i+w-1]\n",
        "\n",
        "\n",
        "    if y_pred > last_p:\n",
        "      if p == 0:\n",
        "        shares_B += 100/last_p\n",
        "        p = 1\n",
        "      \n",
        "      if p == 2:\n",
        "        pnl.append(100 - shares_S*last_p)\n",
        "        p = 0\n",
        "      i+=1\n",
        "\n",
        "    if y_pred < last_p:\n",
        "      if p == 0:\n",
        "        shares_S += 100/last_p\n",
        "        p == 2\n",
        "      \n",
        "      if p == 1:\n",
        "        pnl.append(shares_B*last_p - 100)\n",
        "        p=0\n",
        "      i+=1\n",
        "\n",
        "  return sum(pnl)/len(pnl)\n",
        "\n",
        "\n",
        "\n"
      ]
    },
    {
      "cell_type": "code",
      "execution_count": 9,
      "metadata": {
        "id": "Ig0tx3470g_-"
      },
      "outputs": [],
      "source": [
        "#Q1\n",
        "res = []\n",
        "for i in range(5,31):\n",
        "  res.append(linReg(prices, i))"
      ]
    },
    {
      "cell_type": "code",
      "execution_count": 66,
      "metadata": {
        "colab": {
          "base_uri": "https://localhost:8080/",
          "height": 430
        },
        "id": "9aMlNBfZ9MuY",
        "outputId": "9c4712d3-4875-4ef8-a8d4-459274bb424c"
      },
      "outputs": [
        {
          "data": {
            "image/png": "[encoded data removed]",
            "text/plain": [
              "<Figure size 640x480 with 1 Axes>"
            ]
          },
          "metadata": {},
          "output_type": "display_data"
        }
      ],
      "source": [
        "import matplotlib.pyplot as plt\n",
        "plt.plot([x for x in range(5,31)], res)\n",
        "plt.show()"
      ]
    },
    {
      "cell_type": "code",
      "execution_count": 10,
      "metadata": {
        "colab": {
          "base_uri": "https://localhost:8080/"
        },
        "id": "9-1RDFu_ZTuR",
        "outputId": "9adf7f3a-8b44-42da-9f53-edda83c73a5d"
      },
      "outputs": [
        {
          "data": {
            "text/plain": [
              "[1980.2462509395646,\n",
              " 2160.582926258358,\n",
              " 1740.69784387884,\n",
              " 1897.444861920496,\n",
              " 1695.8908169421054,\n",
              " 1575.4519096568001,\n",
              " 1295.4816092338383,\n",
              " 1184.400139291814,\n",
              " 1193.5862825246493,\n",
              " 1300.5709165255753,\n",
              " 1371.1691080546207,\n",
              " 1303.5023756820806,\n",
              " 1362.522338887428,\n",
              " 1077.8379027438643,\n",
              " 995.4246967497005,\n",
              " 939.242006698171,\n",
              " 914.908325193667,\n",
              " 880.8738673228862,\n",
              " 1046.1364104288095,\n",
              " 938.939095743148,\n",
              " 884.0361294563438,\n",
              " 775.4259498920466,\n",
              " 724.9903334417899,\n",
              " 921.2322634427284,\n",
              " 927.3836007016325,\n",
              " 971.2787523702058]"
            ]
          },
          "execution_count": 10,
          "metadata": {},
          "output_type": "execute_result"
        }
      ],
      "source": [
        "res"
      ]
    },
    {
      "cell_type": "code",
      "execution_count": 11,
      "metadata": {
        "id": "k_stofSx9Ha0"
      },
      "outputs": [],
      "source": [
        "#optimal w = 6"
      ]
    },
    {
      "cell_type": "code",
      "execution_count": 12,
      "metadata": {
        "id": "XL81tqZ29wao"
      },
      "outputs": [],
      "source": [
        "#Q2\n",
        "df2 = df[-251:]\n",
        "train = df2['Adj Close']\n",
        "train = train.reset_index()\n",
        "prices = train['Adj Close']"
      ]
    },
    {
      "cell_type": "code",
      "execution_count": 13,
      "metadata": {
        "id": "kLkeNl66_TtK"
      },
      "outputs": [],
      "source": [
        "def r_2(prices, w):\n",
        "  p = 0 #(0 for no position, 1 for long, 2 for short)\n",
        "  shares_B = 0\n",
        "  shares_S = 0\n",
        "  r2 = []\n",
        "\n",
        "  for i in range(len(prices)-w):\n",
        "    x_train = [j for j in range(w)]\n",
        "    y_train = prices[i:i+w]\n",
        "    x_test = w\n",
        "    y_test = prices[i+w]\n",
        "    x_train = np.array(x_train)\n",
        "    x_test = np.array(x_test)\n",
        "    x_train= x_train.reshape(-1, 1)\n",
        "    x_test = x_test.reshape(-1, 1)\n",
        "    model = LinearRegression()\n",
        "    model.fit(x_train, y_train)\n",
        "    y_pred = model.predict(x_test)\n",
        "    \n",
        "    r2.append(model.score(x_train,y_train))\n",
        "  return r2"
      ]
    },
    {
      "cell_type": "code",
      "execution_count": 14,
      "metadata": {
        "colab": {
          "base_uri": "https://localhost:8080/"
        },
        "id": "UfPMt6c0-3jm",
        "outputId": "79c1d1d5-3007-42b0-a088-9df8ef5e5ca3"
      },
      "outputs": [
        {
          "data": {
            "text/plain": [
              "[0.06513485847597034,\n",
              " 0.8447613189357945,\n",
              " 0.9415287991732968,\n",
              " 0.8132654380979482,\n",
              " 0.815499351941058,\n",
              " 0.15418626600880037,\n",
              " 0.005367626502655987,\n",
              " 0.4411737451737462,\n",
              " 0.6965754070041353,\n",
              " 0.8511816603660076,\n",
              " 0.9041691806401451,\n",
              " 0.78997843391787,\n",
              " 0.4590126233588997,\n",
              " 0.017164614009870127,\n",
              " 0.08861772321905492,\n",
              " 0.33453406853998535,\n",
              " 0.7237197306272773,\n",
              " 0.8999654580288439,\n",
              " 0.929229094091922,\n",
              " 0.9002055885252122,\n",
              " 0.9564368636519843,\n",
              " 0.8535997618197765,\n",
              " 0.5388291270169638,\n",
              " 0.32641906234586426,\n",
              " 0.25587181590670205,\n",
              " 0.5017658572884475,\n",
              " 0.8079945977841334,\n",
              " 0.9301060016818025,\n",
              " 0.8726563278479889,\n",
              " 0.25511817031931694,\n",
              " 0.015915458801508797,\n",
              " 0.4738860789919661,\n",
              " 0.7799162756545108,\n",
              " 0.14750681231900953,\n",
              " 0.007991586058209266,\n",
              " 0.0002922957180104824,\n",
              " 0.0406139301895887,\n",
              " 0.4710494540795035,\n",
              " 0.8789183426489122,\n",
              " 0.14846835201471664,\n",
              " 0.11640017919634249,\n",
              " 0.8222293832480682,\n",
              " 0.8811403360419764,\n",
              " 0.6444924789310054,\n",
              " 0.002507333562135061,\n",
              " 0.3753929286849089,\n",
              " 0.88072855501157,\n",
              " 0.966598938044092,\n",
              " 0.9646909940256257,\n",
              " 0.9624781315589693,\n",
              " 0.980251117411709,\n",
              " 0.9189924505864762,\n",
              " 0.8682969323376036,\n",
              " 0.8689897326595653,\n",
              " 0.8771871674015509,\n",
              " 0.8500202700827948,\n",
              " 0.9390038579685397,\n",
              " 0.948537312388467,\n",
              " 0.896275998961683,\n",
              " 0.7768235994776038,\n",
              " 0.639658848614073,\n",
              " 0.6804453761834143,\n",
              " 0.7008918880656874,\n",
              " 0.8939885201012796,\n",
              " 0.7131299329824767,\n",
              " 0.607006822161315,\n",
              " 0.0005842474087153215,\n",
              " 0.17630408391548114,\n",
              " 0.0009028374892541269,\n",
              " 0.0034703573641813312,\n",
              " 0.1419666962128956,\n",
              " 0.12170238454572946,\n",
              " 0.7636839403288587,\n",
              " 0.9262038459341037,\n",
              " 0.8755027040453423,\n",
              " 0.854711167652491,\n",
              " 0.6609692244375337,\n",
              " 0.819389972066248,\n",
              " 0.020307043243876555,\n",
              " 0.25188598335155565,\n",
              " 0.585536205316225,\n",
              " 0.1919167507783287,\n",
              " 0.4252062372213685,\n",
              " 0.48416478491052883,\n",
              " 0.7609197095072846,\n",
              " 0.7987855432354646,\n",
              " 0.23865323499372948,\n",
              " 0.091188721249027,\n",
              " 0.7442121034460303,\n",
              " 0.7620062440976685,\n",
              " 0.7498276117882845,\n",
              " 0.7717413503272129,\n",
              " 0.8672977456816624,\n",
              " 0.7818997944178618,\n",
              " 0.8451909386791845,\n",
              " 0.8386223487041196,\n",
              " 0.8775652173913038,\n",
              " 0.8921114982578393,\n",
              " 0.7166078167115902,\n",
              " 0.340939874920259,\n",
              " 0.0836733864648227,\n",
              " 0.16843528034732647,\n",
              " 0.2695273147189037,\n",
              " 0.8555043814958216,\n",
              " 0.815040550245128,\n",
              " 0.7870760329359043,\n",
              " 0.7966631460011809,\n",
              " 0.6874291716904111,\n",
              " 0.6688102296084386,\n",
              " 0.7695438309806315,\n",
              " 0.03568980710858427,\n",
              " 0.2180063560964267,\n",
              " 0.46311474940607744,\n",
              " 0.6383554255183808,\n",
              " 0.22249436877832696,\n",
              " 0.28774941680066957,\n",
              " 0.0054758800521547135,\n",
              " 0.001988235698800578,\n",
              " 0.3025664304427075,\n",
              " 0.8568171996321522,\n",
              " 0.7913089886115909,\n",
              " 0.8166664978885869,\n",
              " 0.9308085504941094,\n",
              " 0.9614926514004897,\n",
              " 0.7859342036787299,\n",
              " 0.25317270651797485,\n",
              " 0.03362364256127515,\n",
              " 0.17360152609482016,\n",
              " 0.2902736121381839,\n",
              " 0.09272587976915059,\n",
              " 0.1840744553803052,\n",
              " 0.7097568996145105,\n",
              " 0.8452304667741901,\n",
              " 0.8018615056461413,\n",
              " 0.8120913509554561,\n",
              " 0.7347115801648103,\n",
              " 0.5929725570659087,\n",
              " 0.5694317362425317,\n",
              " 0.7995814310292169,\n",
              " 0.3747222792571455,\n",
              " 0.1715159210941336,\n",
              " 0.5160256786808164,\n",
              " 0.9083247507942747,\n",
              " 0.49646338167732773,\n",
              " 0.06751512413083238,\n",
              " 0.05396176558610566,\n",
              " 0.33022541922477533,\n",
              " 0.6119611976459147,\n",
              " 0.09174903474903617,\n",
              " 0.28647627534972786,\n",
              " 0.48559156315815377,\n",
              " 0.7987125152865785,\n",
              " 0.5662609483539733,\n",
              " 0.2842546436896142,\n",
              " 0.4269851728470323,\n",
              " 0.6235513840809876,\n",
              " 0.8995835863390408,\n",
              " 0.9051850474478671,\n",
              " 0.892971839376353,\n",
              " 0.8758081200890733,\n",
              " 0.7821973895326261,\n",
              " 0.7185346933377237,\n",
              " 0.48289037146687075,\n",
              " 0.15909572992986698,\n",
              " 0.6092251928088581,\n",
              " 0.684642983741041,\n",
              " 0.9259800762917408,\n",
              " 0.8918388268348876,\n",
              " 0.815929591475444,\n",
              " 0.7123183899598642,\n",
              " 0.7689834462212966,\n",
              " 0.5171304721882155,\n",
              " 0.19841141470740864,\n",
              " 0.26397646500835936,\n",
              " 0.39341464131424964,\n",
              " 0.7562003040001221,\n",
              " 0.7188210867498349,\n",
              " 0.8665511714205444,\n",
              " 0.9206755500219644,\n",
              " 0.890772197832582,\n",
              " 0.6214827745859639,\n",
              " 0.023878267842437628,\n",
              " 0.6312353650664309,\n",
              " 0.8015561241475081,\n",
              " 0.6562518286376069,\n",
              " 0.3759944399541896,\n",
              " 0.0830793432307465,\n",
              " 0.016755616234337634,\n",
              " 0.540229556773351,\n",
              " 0.5993480451231805,\n",
              " 0.7169160410589276,\n",
              " 0.8111671759185892,\n",
              " 0.9586989301357076,\n",
              " 0.8591290451458271,\n",
              " 0.8168059720538513,\n",
              " 0.8680132270726784,\n",
              " 0.8088731322932076,\n",
              " 0.7068596601636253,\n",
              " 0.7436667675544795,\n",
              " 0.3635986721387233,\n",
              " 0.06510972516633184,\n",
              " 0.22670240418776733,\n",
              " 0.4264273112271477,\n",
              " 0.14123296377374217,\n",
              " 0.3126999226010746,\n",
              " 0.08039004989646126,\n",
              " 0.2921143788630042,\n",
              " 0.8043531335880758,\n",
              " 0.5639004911747747,\n",
              " 0.5876889245383282,\n",
              " 0.011671119382813844,\n",
              " 0.5431441777215138,\n",
              " 0.8001676349089287,\n",
              " 0.6660251225766411,\n",
              " 0.7530806192710359,\n",
              " 0.7373508343172438,\n",
              " 0.7224592015777187,\n",
              " 0.8768383652970796,\n",
              " 0.8454787203658772,\n",
              " 0.5317794643351061,\n",
              " 0.13481134423637142,\n",
              " 0.4185221674876842,\n",
              " 0.38451513441778795,\n",
              " 0.649264097068841,\n",
              " 0.9586436033175187,\n",
              " 0.963931499151879,\n",
              " 0.6954311556350102,\n",
              " 0.6579204006325783,\n",
              " 0.1862231110620911,\n",
              " 0.04242327747482533,\n",
              " 0.567812923986163,\n",
              " 0.00896697596146434,\n",
              " 0.035382249991823045,\n",
              " 0.49984617119001096,\n",
              " 0.5620323512025222,\n",
              " 0.40225833133802014,\n",
              " 0.33153805663753355,\n",
              " 0.03536649881457932,\n",
              " 0.4650315049979382,\n",
              " 0.11945260475625274,\n",
              " 0.05088671884680074,\n",
              " 0.5642165317765702,\n",
              " 0.6898079653430895,\n",
              " 0.6965764585953133,\n",
              " 0.17148962148962144]"
            ]
          },
          "execution_count": 14,
          "metadata": {},
          "output_type": "execute_result"
        }
      ],
      "source": [
        "r_2(prices, 6)"
      ]
    },
    {
      "cell_type": "code",
      "execution_count": 67,
      "metadata": {
        "colab": {
          "base_uri": "https://localhost:8080/",
          "height": 430
        },
        "id": "3K6Re4Al9x4I",
        "outputId": "3a40edd8-f917-4a57-dc92-f13667f43e29"
      },
      "outputs": [
        {
          "data": {
            "image/png": "[encoded data removed]",
            "text/plain": [
              "<Figure size 640x480 with 1 Axes>"
            ]
          },
          "metadata": {},
          "output_type": "display_data"
        }
      ],
      "source": [
        "plt.plot([x for x in range(len(r_2(prices, 6)))], r_2(prices, 6))\n",
        "plt.show()"
      ]
    },
    {
      "cell_type": "code",
      "execution_count": 15,
      "metadata": {
        "id": "AOuSw8xEAfX8"
      },
      "outputs": [],
      "source": [
        "#Q3\n",
        "def q3(prices, w):\n",
        "  p = 0 #(0 for no position, 1 for long, 2 for short)\n",
        "  shares_B = 0\n",
        "  shares_S = 0\n",
        "  pnl = []\n",
        "  l = s = 0\n",
        "  for i in range(len(prices)-w):\n",
        "    x_train = [j for j in range(w)]\n",
        "    y_train = prices[i:i+w]\n",
        "    x_test = w\n",
        "    y_test = prices[i+w]\n",
        "    x_train = np.array(x_train)\n",
        "    x_test = np.array(x_test)\n",
        "    x_train= x_train.reshape(-1, 1)\n",
        "    x_test = x_test.reshape(-1, 1)\n",
        "    model = LinearRegression()\n",
        "    model.fit(x_train, y_train)\n",
        "    y_pred = model.predict(x_test)\n",
        "    last_p = y_train[i+w-1]\n",
        "\n",
        "\n",
        "    if y_pred > last_p:\n",
        "      if p == 0:\n",
        "        shares_B += 100/last_p\n",
        "        p = 1\n",
        "      \n",
        "      if p == 2:\n",
        "        pnl.append(100 - shares_S*last_p)\n",
        "        p = 0\n",
        "      i+=1\n",
        "      l+=1\n",
        "\n",
        "    if y_pred < last_p:\n",
        "      if p == 0:\n",
        "        shares_S += 100/last_p\n",
        "        p == 2\n",
        "      \n",
        "      if p == 1:\n",
        "        pnl.append(shares_B*last_p - 100)\n",
        "        p=0\n",
        "      i+=1\n",
        "      s+=1\n",
        "\n",
        "  return [l,s]"
      ]
    },
    {
      "cell_type": "code",
      "execution_count": 16,
      "metadata": {
        "colab": {
          "base_uri": "https://localhost:8080/"
        },
        "id": "C5Fi1wrDMwcc",
        "outputId": "6a59168e-2211-4b03-a967-19356a9f6f75"
      },
      "outputs": [
        {
          "data": {
            "text/plain": [
              "[120, 125]"
            ]
          },
          "execution_count": 16,
          "metadata": {},
          "output_type": "execute_result"
        }
      ],
      "source": [
        "q3(prices,6)"
      ]
    },
    {
      "cell_type": "code",
      "execution_count": 17,
      "metadata": {
        "id": "ccZTTHKhM0Xq"
      },
      "outputs": [],
      "source": [
        "#q4\n",
        "def q4(prices, w):\n",
        "  p = 0 #(0 for no position, 1 for long, 2 for short)\n",
        "  shares_B = 0\n",
        "  shares_S = 0\n",
        "  pnl = []\n",
        "  l = s = []\n",
        "  for i in range(len(prices)-w):\n",
        "    x_train = [j for j in range(w)]\n",
        "    y_train = prices[i:i+w]\n",
        "    x_test = w\n",
        "    y_test = prices[i+w]\n",
        "    x_train = np.array(x_train)\n",
        "    x_test = np.array(x_test)\n",
        "    x_train= x_train.reshape(-1, 1)\n",
        "    x_test = x_test.reshape(-1, 1)\n",
        "    model = LinearRegression()\n",
        "    model.fit(x_train, y_train)\n",
        "    y_pred = model.predict(x_test)\n",
        "    last_p = y_train[i+w-1]\n",
        "\n",
        "\n",
        "    if y_pred > last_p:\n",
        "      if p == 0:\n",
        "        shares_B += 100/last_p\n",
        "        p = 1\n",
        "      \n",
        "      if p == 2:\n",
        "        l.append(100 - shares_S*last_p)\n",
        "        p = 0\n",
        "      i+=1\n",
        "\n",
        "    if y_pred < last_p:\n",
        "      if p == 0:\n",
        "        shares_S += 100/last_p\n",
        "        p == 2\n",
        "      \n",
        "      if p == 1:\n",
        "        s.append(shares_B*last_p - 100)\n",
        "        p=0\n",
        "      i+=1\n",
        "\n",
        "  return [sum(l),sum(s)]"
      ]
    },
    {
      "cell_type": "code",
      "execution_count": 18,
      "metadata": {
        "id": "sx2ipfkINtLG"
      },
      "outputs": [],
      "source": [
        "l_avg = q4(prices,6)[0]/120\n",
        "s_avg = q4(prices, 6)[1]/125"
      ]
    },
    {
      "cell_type": "code",
      "execution_count": 19,
      "metadata": {
        "colab": {
          "base_uri": "https://localhost:8080/"
        },
        "id": "KO2uGUqTNvg8",
        "outputId": "78925867-1e9a-4eaf-f3b5-93695d2eb087"
      },
      "outputs": [
        {
          "data": {
            "text/plain": [
              "473.20735917295144"
            ]
          },
          "execution_count": 19,
          "metadata": {},
          "output_type": "execute_result"
        }
      ],
      "source": [
        "l_avg"
      ]
    },
    {
      "cell_type": "code",
      "execution_count": 20,
      "metadata": {
        "colab": {
          "base_uri": "https://localhost:8080/"
        },
        "id": "QO5wWbT-ai77",
        "outputId": "d75759a4-0c3f-45be-940c-503861718451"
      },
      "outputs": [
        {
          "data": {
            "text/plain": [
              "454.2790648060334"
            ]
          },
          "execution_count": 20,
          "metadata": {},
          "output_type": "execute_result"
        }
      ],
      "source": [
        "s_avg"
      ]
    },
    {
      "cell_type": "markdown",
      "metadata": {
        "id": "kM2sXJ1uasJb"
      },
      "source": [
        "#Part-2\n",
        "\n",
        "In this assignment you will implement and compare three poly- nomial functions (line - degree d = 1, quadratic - degree d = 2 and cubic - degree d = 3) for predicting next week labels based on the previous W weekly closing prices. Recall that a weekly closing price for week i is the (adjusted) closing price Pi for the last trading day day of that week.\n",
        "Assume that you are given W and you have weekly closing prices P1,...,PW for weeks 1,...,W. You want to predict a label (”red” or ”green”) for week W + 1 using a polynomial model of degree d fitted on prices P1,...,PW.\n",
        "You proceed as follows. Construct a polynomial model of de-\n",
        "gree d to fit P1,...,PW and use this model to predict price\n",
        "P∗ for week W +1. Then assign a label to week W +1 W+1\n",
        " based on the following three cases:\n",
        "1. P∗ > PW: week W +1 ia assigned a ”green” color (you\n",
        "W+1\n",
        "predict next week closing price is higher than current, and\n",
        "therefore, you want to be invested)\n",
        "2. P∗ < PW: week W + 1 ia assigned a ”red” color (you\n",
        "W+1\n",
        "predict next week closing price to be lower than the current\n",
        "price, and therefore, you want to remain in cash)\n",
        "3. P∗ = PW: week W + 1 ia assigned the same color as W+1\n",
        "week W\n",
        "\n",
        "Questions:\n",
        "1. take weekly data for year 1. For each W = 5,6,...,12 and for each d = 1, 2, 3 construct the corresponding polynomials Use these polynomials to predict weekly labels. Plot the accuracy - on x axis you have W and you plot three curves for accuracy (separate curve for each d)\n",
        "2. for each d take the best W that gives you the highest accu- racy. Use this W to predict labels for year 2. What is your accuracy?\n",
        "3. compute confusion matrices (for each d) for year 2\n",
        "4. implement three trading strategies for year 2 (for each d using the ”best” values for W from year 1 that you have computed)"
      ]
    },
    {
      "cell_type": "code",
      "execution_count": 21,
      "metadata": {
        "id": "S6dUECI_akBV"
      },
      "outputs": [],
      "source": [
        "data1 = df[-504:-251]\n",
        "data2 = df[-251:]"
      ]
    },
    {
      "cell_type": "code",
      "execution_count": 22,
      "metadata": {
        "id": "yCbyTMuMbFDm"
      },
      "outputs": [],
      "source": [
        "data1 = data1.reset_index()\n",
        "data2 = data2.reset_index()"
      ]
    },
    {
      "cell_type": "code",
      "execution_count": 23,
      "metadata": {
        "colab": {
          "base_uri": "https://localhost:8080/",
          "height": 658
        },
        "id": "RxorOev-bSE8",
        "outputId": "c5d79d31-8131-484a-96b6-3e9dc74bd10c"
      },
      "outputs": [
        {
          "data": {
            "text/html": [
              "\n",
              "  <div id=\"df-43465e1a-f217-453d-93ad-3b00f6cb0a18\">\n",
              "    <div class=\"colab-df-container\">\n",
              "      <div>\n",
              "<style scoped>\n",
              "    .dataframe tbody tr th:only-of-type {\n",
              "        vertical-align: middle;\n",
              "    }\n",
              "\n",
              "    .dataframe tbody tr th {\n",
              "        vertical-align: top;\n",
              "    }\n",
              "\n",
              "    .dataframe thead th {\n",
              "        text-align: right;\n",
              "    }\n",
              "</style>\n",
              "<table border=\"1\" class=\"dataframe\">\n",
              "  <thead>\n",
              "    <tr style=\"text-align: right;\">\n",
              "      <th></th>\n",
              "      <th>index</th>\n",
              "      <th>Date</th>\n",
              "      <th>Year</th>\n",
              "      <th>Month</th>\n",
              "      <th>Day</th>\n",
              "      <th>Weekday</th>\n",
              "      <th>Week_Number</th>\n",
              "      <th>Year_Week</th>\n",
              "      <th>Open</th>\n",
              "      <th>High</th>\n",
              "      <th>Low</th>\n",
              "      <th>Close</th>\n",
              "      <th>Volume</th>\n",
              "      <th>Adj Close</th>\n",
              "      <th>Return</th>\n",
              "      <th>Short_MA</th>\n",
              "      <th>Long_MA</th>\n",
              "    </tr>\n",
              "  </thead>\n",
              "  <tbody>\n",
              "    <tr>\n",
              "      <th>0</th>\n",
              "      <td>643</td>\n",
              "      <td>2020-01-02</td>\n",
              "      <td>2020</td>\n",
              "      <td>1</td>\n",
              "      <td>2</td>\n",
              "      <td>Thursday</td>\n",
              "      <td>0</td>\n",
              "      <td>2020-00</td>\n",
              "      <td>21.15</td>\n",
              "      <td>21.40</td>\n",
              "      <td>20.81</td>\n",
              "      <td>21.38</td>\n",
              "      <td>33600</td>\n",
              "      <td>21.38</td>\n",
              "      <td>0.016160</td>\n",
              "      <td>21.149286</td>\n",
              "      <td>21.4500</td>\n",
              "    </tr>\n",
              "    <tr>\n",
              "      <th>1</th>\n",
              "      <td>644</td>\n",
              "      <td>2020-01-03</td>\n",
              "      <td>2020</td>\n",
              "      <td>1</td>\n",
              "      <td>3</td>\n",
              "      <td>Friday</td>\n",
              "      <td>0</td>\n",
              "      <td>2020-00</td>\n",
              "      <td>21.19</td>\n",
              "      <td>21.61</td>\n",
              "      <td>21.19</td>\n",
              "      <td>21.49</td>\n",
              "      <td>20300</td>\n",
              "      <td>21.49</td>\n",
              "      <td>0.005145</td>\n",
              "      <td>21.172143</td>\n",
              "      <td>21.4818</td>\n",
              "    </tr>\n",
              "    <tr>\n",
              "      <th>2</th>\n",
              "      <td>645</td>\n",
              "      <td>2020-01-06</td>\n",
              "      <td>2020</td>\n",
              "      <td>1</td>\n",
              "      <td>6</td>\n",
              "      <td>Monday</td>\n",
              "      <td>1</td>\n",
              "      <td>2020-01</td>\n",
              "      <td>21.47</td>\n",
              "      <td>21.66</td>\n",
              "      <td>21.26</td>\n",
              "      <td>21.60</td>\n",
              "      <td>30300</td>\n",
              "      <td>21.60</td>\n",
              "      <td>0.005119</td>\n",
              "      <td>21.166429</td>\n",
              "      <td>21.5150</td>\n",
              "    </tr>\n",
              "    <tr>\n",
              "      <th>3</th>\n",
              "      <td>646</td>\n",
              "      <td>2020-01-07</td>\n",
              "      <td>2020</td>\n",
              "      <td>1</td>\n",
              "      <td>7</td>\n",
              "      <td>Tuesday</td>\n",
              "      <td>1</td>\n",
              "      <td>2020-01</td>\n",
              "      <td>21.55</td>\n",
              "      <td>21.68</td>\n",
              "      <td>21.37</td>\n",
              "      <td>21.42</td>\n",
              "      <td>22500</td>\n",
              "      <td>21.42</td>\n",
              "      <td>-0.008333</td>\n",
              "      <td>21.179286</td>\n",
              "      <td>21.5476</td>\n",
              "    </tr>\n",
              "    <tr>\n",
              "      <th>4</th>\n",
              "      <td>647</td>\n",
              "      <td>2020-01-08</td>\n",
              "      <td>2020</td>\n",
              "      <td>1</td>\n",
              "      <td>8</td>\n",
              "      <td>Wednesday</td>\n",
              "      <td>1</td>\n",
              "      <td>2020-01</td>\n",
              "      <td>21.42</td>\n",
              "      <td>21.85</td>\n",
              "      <td>21.25</td>\n",
              "      <td>21.63</td>\n",
              "      <td>42700</td>\n",
              "      <td>21.63</td>\n",
              "      <td>0.009804</td>\n",
              "      <td>21.226429</td>\n",
              "      <td>21.5856</td>\n",
              "    </tr>\n",
              "    <tr>\n",
              "      <th>...</th>\n",
              "      <td>...</td>\n",
              "      <td>...</td>\n",
              "      <td>...</td>\n",
              "      <td>...</td>\n",
              "      <td>...</td>\n",
              "      <td>...</td>\n",
              "      <td>...</td>\n",
              "      <td>...</td>\n",
              "      <td>...</td>\n",
              "      <td>...</td>\n",
              "      <td>...</td>\n",
              "      <td>...</td>\n",
              "      <td>...</td>\n",
              "      <td>...</td>\n",
              "      <td>...</td>\n",
              "      <td>...</td>\n",
              "      <td>...</td>\n",
              "    </tr>\n",
              "    <tr>\n",
              "      <th>248</th>\n",
              "      <td>891</td>\n",
              "      <td>2020-12-24</td>\n",
              "      <td>2020</td>\n",
              "      <td>12</td>\n",
              "      <td>24</td>\n",
              "      <td>Thursday</td>\n",
              "      <td>51</td>\n",
              "      <td>2020-51</td>\n",
              "      <td>25.87</td>\n",
              "      <td>26.54</td>\n",
              "      <td>25.84</td>\n",
              "      <td>26.01</td>\n",
              "      <td>43300</td>\n",
              "      <td>26.01</td>\n",
              "      <td>0.016016</td>\n",
              "      <td>24.037143</td>\n",
              "      <td>20.5550</td>\n",
              "    </tr>\n",
              "    <tr>\n",
              "      <th>249</th>\n",
              "      <td>892</td>\n",
              "      <td>2020-12-28</td>\n",
              "      <td>2020</td>\n",
              "      <td>12</td>\n",
              "      <td>28</td>\n",
              "      <td>Monday</td>\n",
              "      <td>52</td>\n",
              "      <td>2020-52</td>\n",
              "      <td>26.01</td>\n",
              "      <td>27.19</td>\n",
              "      <td>25.95</td>\n",
              "      <td>26.88</td>\n",
              "      <td>121800</td>\n",
              "      <td>26.88</td>\n",
              "      <td>0.033449</td>\n",
              "      <td>24.267857</td>\n",
              "      <td>20.7450</td>\n",
              "    </tr>\n",
              "    <tr>\n",
              "      <th>250</th>\n",
              "      <td>893</td>\n",
              "      <td>2020-12-29</td>\n",
              "      <td>2020</td>\n",
              "      <td>12</td>\n",
              "      <td>29</td>\n",
              "      <td>Tuesday</td>\n",
              "      <td>52</td>\n",
              "      <td>2020-52</td>\n",
              "      <td>26.90</td>\n",
              "      <td>26.94</td>\n",
              "      <td>25.94</td>\n",
              "      <td>26.32</td>\n",
              "      <td>66500</td>\n",
              "      <td>26.32</td>\n",
              "      <td>-0.020833</td>\n",
              "      <td>24.491429</td>\n",
              "      <td>20.9176</td>\n",
              "    </tr>\n",
              "    <tr>\n",
              "      <th>251</th>\n",
              "      <td>894</td>\n",
              "      <td>2020-12-30</td>\n",
              "      <td>2020</td>\n",
              "      <td>12</td>\n",
              "      <td>30</td>\n",
              "      <td>Wednesday</td>\n",
              "      <td>52</td>\n",
              "      <td>2020-52</td>\n",
              "      <td>26.35</td>\n",
              "      <td>27.93</td>\n",
              "      <td>26.27</td>\n",
              "      <td>27.15</td>\n",
              "      <td>66000</td>\n",
              "      <td>27.15</td>\n",
              "      <td>0.031535</td>\n",
              "      <td>24.800000</td>\n",
              "      <td>21.1204</td>\n",
              "    </tr>\n",
              "    <tr>\n",
              "      <th>252</th>\n",
              "      <td>895</td>\n",
              "      <td>2020-12-31</td>\n",
              "      <td>2020</td>\n",
              "      <td>12</td>\n",
              "      <td>31</td>\n",
              "      <td>Thursday</td>\n",
              "      <td>52</td>\n",
              "      <td>2020-52</td>\n",
              "      <td>27.29</td>\n",
              "      <td>27.73</td>\n",
              "      <td>26.72</td>\n",
              "      <td>27.65</td>\n",
              "      <td>56400</td>\n",
              "      <td>27.65</td>\n",
              "      <td>0.018416</td>\n",
              "      <td>25.142143</td>\n",
              "      <td>21.3306</td>\n",
              "    </tr>\n",
              "  </tbody>\n",
              "</table>\n",
              "<p>253 rows × 17 columns</p>\n",
              "</div>\n",
              "      <button class=\"colab-df-convert\" onclick=\"convertToInteractive('df-43465e1a-f217-453d-93ad-3b00f6cb0a18')\"\n",
              "              title=\"Convert this dataframe to an interactive table.\"\n",
              "              style=\"display:none;\">\n",
              "        \n",
              "  <svg xmlns=\"http://www.w3.org/2000/svg\" height=\"24px\"viewBox=\"0 0 24 24\"\n",
              "       width=\"24px\">\n",
              "    <path d=\"M0 0h24v24H0V0z\" fill=\"none\"/>\n",
              "    <path d=\"M18.56 5.44l.94 2.06.94-2.06 2.06-.94-2.06-.94-.94-2.06-.94 2.06-2.06.94zm-11 1L8.5 8.5l.94-2.06 2.06-.94-2.06-.94L8.5 2.5l-.94 2.06-2.06.94zm10 10l.94 2.06.94-2.06 2.06-.94-2.06-.94-.94-2.06-.94 2.06-2.06.94z\"/><path d=\"M17.41 7.96l-1.37-1.37c-.4-.4-.92-.59-1.43-.59-.52 0-1.04.2-1.43.59L10.3 9.45l-7.72 7.72c-.78.78-.78 2.05 0 2.83L4 21.41c.39.39.9.59 1.41.59.51 0 1.02-.2 1.41-.59l7.78-7.78 2.81-2.81c.8-.78.8-2.07 0-2.86zM5.41 20L4 18.59l7.72-7.72 1.47 1.35L5.41 20z\"/>\n",
              "  </svg>\n",
              "      </button>\n",
              "      \n",
              "  <style>\n",
              "    .colab-df-container {\n",
              "      display:flex;\n",
              "      flex-wrap:wrap;\n",
              "      gap: 12px;\n",
              "    }\n",
              "\n",
              "    .colab-df-convert {\n",
              "      background-color: #E8F0FE;\n",
              "      border: none;\n",
              "      border-radius: 50%;\n",
              "      cursor: pointer;\n",
              "      display: none;\n",
              "      fill: #1967D2;\n",
              "      height: 32px;\n",
              "      padding: 0 0 0 0;\n",
              "      width: 32px;\n",
              "    }\n",
              "\n",
              "    .colab-df-convert:hover {\n",
              "      background-color: #E2EBFA;\n",
              "      box-shadow: 0px 1px 2px rgba(60, 64, 67, 0.3), 0px 1px 3px 1px rgba(60, 64, 67, 0.15);\n",
              "      fill: #174EA6;\n",
              "    }\n",
              "\n",
              "    [theme=dark] .colab-df-convert {\n",
              "      background-color: #3B4455;\n",
              "      fill: #D2E3FC;\n",
              "    }\n",
              "\n",
              "    [theme=dark] .colab-df-convert:hover {\n",
              "      background-color: #434B5C;\n",
              "      box-shadow: 0px 1px 3px 1px rgba(0, 0, 0, 0.15);\n",
              "      filter: drop-shadow(0px 1px 2px rgba(0, 0, 0, 0.3));\n",
              "      fill: #FFFFFF;\n",
              "    }\n",
              "  </style>\n",
              "\n",
              "      <script>\n",
              "        const buttonEl =\n",
              "          document.querySelector('#df-43465e1a-f217-453d-93ad-3b00f6cb0a18 button.colab-df-convert');\n",
              "        buttonEl.style.display =\n",
              "          google.colab.kernel.accessAllowed ? 'block' : 'none';\n",
              "\n",
              "        async function convertToInteractive(key) {\n",
              "          const element = document.querySelector('#df-43465e1a-f217-453d-93ad-3b00f6cb0a18');\n",
              "          const dataTable =\n",
              "            await google.colab.kernel.invokeFunction('convertToInteractive',\n",
              "                                                     [key], {});\n",
              "          if (!dataTable) return;\n",
              "\n",
              "          const docLinkHtml = 'Like what you see? Visit the ' +\n",
              "            '<a target=\"_blank\" href=https://colab.research.google.com/notebooks/data_table.ipynb>data table notebook</a>'\n",
              "            + ' to learn more about interactive tables.';\n",
              "          element.innerHTML = '';\n",
              "          dataTable['output_type'] = 'display_data';\n",
              "          await google.colab.output.renderOutput(dataTable, element);\n",
              "          const docLink = document.createElement('div');\n",
              "          docLink.innerHTML = docLinkHtml;\n",
              "          element.appendChild(docLink);\n",
              "        }\n",
              "      </script>\n",
              "    </div>\n",
              "  </div>\n",
              "  "
            ],
            "text/plain": [
              "     index        Date  Year  Month  Day    Weekday  Week_Number Year_Week  \\\n",
              "0      643  2020-01-02  2020      1    2   Thursday            0   2020-00   \n",
              "1      644  2020-01-03  2020      1    3     Friday            0   2020-00   \n",
              "2      645  2020-01-06  2020      1    6     Monday            1   2020-01   \n",
              "3      646  2020-01-07  2020      1    7    Tuesday            1   2020-01   \n",
              "4      647  2020-01-08  2020      1    8  Wednesday            1   2020-01   \n",
              "..     ...         ...   ...    ...  ...        ...          ...       ...   \n",
              "248    891  2020-12-24  2020     12   24   Thursday           51   2020-51   \n",
              "249    892  2020-12-28  2020     12   28     Monday           52   2020-52   \n",
              "250    893  2020-12-29  2020     12   29    Tuesday           52   2020-52   \n",
              "251    894  2020-12-30  2020     12   30  Wednesday           52   2020-52   \n",
              "252    895  2020-12-31  2020     12   31   Thursday           52   2020-52   \n",
              "\n",
              "      Open   High    Low  Close  Volume  Adj Close    Return   Short_MA  \\\n",
              "0    21.15  21.40  20.81  21.38   33600      21.38  0.016160  21.149286   \n",
              "1    21.19  21.61  21.19  21.49   20300      21.49  0.005145  21.172143   \n",
              "2    21.47  21.66  21.26  21.60   30300      21.60  0.005119  21.166429   \n",
              "3    21.55  21.68  21.37  21.42   22500      21.42 -0.008333  21.179286   \n",
              "4    21.42  21.85  21.25  21.63   42700      21.63  0.009804  21.226429   \n",
              "..     ...    ...    ...    ...     ...        ...       ...        ...   \n",
              "248  25.87  26.54  25.84  26.01   43300      26.01  0.016016  24.037143   \n",
              "249  26.01  27.19  25.95  26.88  121800      26.88  0.033449  24.267857   \n",
              "250  26.90  26.94  25.94  26.32   66500      26.32 -0.020833  24.491429   \n",
              "251  26.35  27.93  26.27  27.15   66000      27.15  0.031535  24.800000   \n",
              "252  27.29  27.73  26.72  27.65   56400      27.65  0.018416  25.142143   \n",
              "\n",
              "     Long_MA  \n",
              "0    21.4500  \n",
              "1    21.4818  \n",
              "2    21.5150  \n",
              "3    21.5476  \n",
              "4    21.5856  \n",
              "..       ...  \n",
              "248  20.5550  \n",
              "249  20.7450  \n",
              "250  20.9176  \n",
              "251  21.1204  \n",
              "252  21.3306  \n",
              "\n",
              "[253 rows x 17 columns]"
            ]
          },
          "execution_count": 23,
          "metadata": {},
          "output_type": "execute_result"
        }
      ],
      "source": [
        "data1"
      ]
    },
    {
      "cell_type": "code",
      "execution_count": 24,
      "metadata": {
        "id": "TENbR8eQbS-9"
      },
      "outputs": [],
      "source": [
        "weekly_closing = []\n",
        "for i in range(1,len(data1)):\n",
        "  if data1['Week_Number'][i] != data1['Week_Number'][i-1]:\n",
        "    weekly_closing.append(data1['Adj Close'][i-1])"
      ]
    },
    {
      "cell_type": "code",
      "execution_count": 25,
      "metadata": {
        "id": "Kmo0OITGAK2G"
      },
      "outputs": [],
      "source": [
        "weekly_closing2 = []\n",
        "for i in range(1,len(data2)):\n",
        "  if data2['Week_Number'][i] != data2['Week_Number'][i-1]:\n",
        "    weekly_closing2.append(data2['Adj Close'][i-1])"
      ]
    },
    {
      "cell_type": "code",
      "execution_count": 26,
      "metadata": {
        "id": "XqR-g18Xcgda"
      },
      "outputs": [],
      "source": [
        "weekly_closing.append(data1['Adj Close'][252]) #last closing price\n",
        "weekly_closing2.append(data2['Adj Close'][len(data2)-1])"
      ]
    },
    {
      "cell_type": "code",
      "execution_count": 27,
      "metadata": {
        "colab": {
          "base_uri": "https://localhost:8080/"
        },
        "id": "Gkgqty-jchaj",
        "outputId": "6ac78505-d149-4ad3-8105-e71e402ce403"
      },
      "outputs": [
        {
          "data": {
            "text/plain": [
              "53"
            ]
          },
          "execution_count": 27,
          "metadata": {},
          "output_type": "execute_result"
        }
      ],
      "source": [
        "len(weekly_closing)"
      ]
    },
    {
      "cell_type": "code",
      "execution_count": 28,
      "metadata": {
        "id": "qybpNuJ1dGJP"
      },
      "outputs": [],
      "source": [
        "from sklearn.model_selection import train_test_split\n",
        "from sklearn.linear_model import LinearRegression\n",
        "from sklearn.preprocessing import PolynomialFeatures\n",
        "from sklearn.metrics import mean_squared_error, r2_score"
      ]
    },
    {
      "cell_type": "code",
      "execution_count": 29,
      "metadata": {
        "colab": {
          "base_uri": "https://localhost:8080/"
        },
        "id": "NSoSLJVUpkMe",
        "outputId": "70ae01e4-522b-48f1-b941-8bc517251c61"
      },
      "outputs": [
        {
          "data": {
            "text/plain": [
              "[21.49,\n",
              " 20.88,\n",
              " 20.71,\n",
              " 20.65,\n",
              " 20.18,\n",
              " 20.59,\n",
              " 20.43,\n",
              " 20.45,\n",
              " 19.46,\n",
              " 17.59,\n",
              " 14.67,\n",
              " 16.15,\n",
              " 17.19,\n",
              " 16.18,\n",
              " 17.99,\n",
              " 16.65,\n",
              " 16.21,\n",
              " 15.8,\n",
              " 18.46,\n",
              " 17.98,\n",
              " 18.6,\n",
              " 16.32,\n",
              " 16.35,\n",
              " 15.45,\n",
              " 15.87,\n",
              " 14.61,\n",
              " 15.75,\n",
              " 15.18,\n",
              " 15.73,\n",
              " 15.91,\n",
              " 15.9,\n",
              " 16.15,\n",
              " 16.35,\n",
              " 16.99,\n",
              " 16.91,\n",
              " 15.87,\n",
              " 16.27,\n",
              " 15.8,\n",
              " 15.5,\n",
              " 16.38,\n",
              " 17.53,\n",
              " 17.69,\n",
              " 17.63,\n",
              " 15.98,\n",
              " 16.86,\n",
              " 19.75,\n",
              " 21.61,\n",
              " 22.82,\n",
              " 23.5,\n",
              " 22.95,\n",
              " 25.79,\n",
              " 26.01,\n",
              " 27.65]"
            ]
          },
          "execution_count": 29,
          "metadata": {},
          "output_type": "execute_result"
        }
      ],
      "source": [
        "weekly_closing"
      ]
    },
    {
      "cell_type": "code",
      "execution_count": 30,
      "metadata": {
        "id": "G2sy5S4sfDCa"
      },
      "outputs": [],
      "source": [
        "def model1(prices, w):\n",
        "\n",
        "  y_true = []\n",
        "  y_pred = []\n",
        "\n",
        "  for i in range(len(prices)-w):\n",
        "    x_train = [j for j in range(w)]\n",
        "    y_train = prices[i:i+w]\n",
        "    x_test = w\n",
        "    y_true.append(prices[i+w])\n",
        "    \n",
        "    degree = 1\n",
        "    weights1 = np.polyfit(x_train, y_train, degree)\n",
        "    m1 = np.poly1d(weights1)\n",
        "    y_pred.append(m1(x_test))\n",
        "  \n",
        "  r2 = r2_score(y_true, y_pred)\n",
        "  return r2\n"
      ]
    },
    {
      "cell_type": "code",
      "execution_count": 31,
      "metadata": {
        "id": "31htL3QOjGBI"
      },
      "outputs": [],
      "source": [
        "r2_1 = []\n",
        "for i in range(5,13):\n",
        "  r2_1.append(model1(weekly_closing, i))"
      ]
    },
    {
      "cell_type": "code",
      "execution_count": 32,
      "metadata": {
        "colab": {
          "base_uri": "https://localhost:8080/"
        },
        "id": "FBI6U0CwldHz",
        "outputId": "87383eb9-422a-48c2-a4e4-3ba79a4bb362"
      },
      "outputs": [
        {
          "data": {
            "text/plain": [
              "[0.7525010599343914,\n",
              " 0.7407444382520383,\n",
              " 0.758548504536003,\n",
              " 0.7681050306752747,\n",
              " 0.7749373245526138,\n",
              " 0.776908993987037,\n",
              " 0.7890911734560733,\n",
              " 0.7645727607010471]"
            ]
          },
          "execution_count": 32,
          "metadata": {},
          "output_type": "execute_result"
        }
      ],
      "source": [
        "r2_1"
      ]
    },
    {
      "cell_type": "code",
      "execution_count": 33,
      "metadata": {
        "id": "5B0NjRnF2TGr"
      },
      "outputs": [],
      "source": [
        "def model2(prices, w):\n",
        "  y_true = []\n",
        "  y_pred = []\n",
        "  for i in range(len(prices)-w):\n",
        "    x_train = [j for j in range(w)]\n",
        "    y_train = prices[i:i+w]\n",
        "    x_test = w\n",
        "    y_true.append(prices[i+w])\n",
        "    \n",
        "    degree = 2\n",
        "    weights1 = np.polyfit(x_train, y_train, degree)\n",
        "    m1 = np.poly1d(weights1)\n",
        "    y_pred.append(m1(x_test))\n",
        "  \n",
        "  r2 = r2_score(y_true, y_pred)\n",
        "  return r2"
      ]
    },
    {
      "cell_type": "code",
      "execution_count": 34,
      "metadata": {
        "id": "uztKdyj32diL"
      },
      "outputs": [],
      "source": [
        "r2_2 = []\n",
        "for i in range(5,13):\n",
        "  r2_2.append(model2(weekly_closing, i))"
      ]
    },
    {
      "cell_type": "code",
      "execution_count": 35,
      "metadata": {
        "colab": {
          "base_uri": "https://localhost:8080/"
        },
        "id": "lsQRP-Lr2pdO",
        "outputId": "01895971-bf0b-43cf-ba6d-5ffe490a818d"
      },
      "outputs": [
        {
          "data": {
            "text/plain": [
              "[0.6074137473725472,\n",
              " 0.623486218147089,\n",
              " 0.5867259200656019,\n",
              " 0.6093982282412667,\n",
              " 0.6458905695447545,\n",
              " 0.7039755273133272,\n",
              " 0.7601122553276144,\n",
              " 0.7851475031781109]"
            ]
          },
          "execution_count": 35,
          "metadata": {},
          "output_type": "execute_result"
        }
      ],
      "source": [
        "r2_2"
      ]
    },
    {
      "cell_type": "code",
      "execution_count": 36,
      "metadata": {
        "id": "isLj2qbR2quw"
      },
      "outputs": [],
      "source": [
        "def model3(prices, w):\n",
        "  y_true = []\n",
        "  y_pred = []\n",
        "  for i in range(len(prices)-w):\n",
        "    x_train = [j for j in range(w)]\n",
        "    y_train = prices[i:i+w]\n",
        "    x_test = w\n",
        "    y_true.append(prices[i+w])\n",
        "    \n",
        "    degree = 3\n",
        "    weights1 = np.polyfit(x_train, y_train, degree)\n",
        "    m1 = np.poly1d(weights1)\n",
        "    y_pred.append(m1(x_test))\n",
        "  \n",
        "  r2 = r2_score(y_true, y_pred)\n",
        "  return r2"
      ]
    },
    {
      "cell_type": "code",
      "execution_count": 37,
      "metadata": {
        "id": "vUYhfBHX2xs3"
      },
      "outputs": [],
      "source": [
        "r2_3 = []\n",
        "for i in range(5,13):\n",
        "  r2_3.append(model3(weekly_closing, i))"
      ]
    },
    {
      "cell_type": "code",
      "execution_count": 38,
      "metadata": {
        "colab": {
          "base_uri": "https://localhost:8080/"
        },
        "id": "9Qh_kY9R21an",
        "outputId": "3ebc1884-3f89-499f-b563-30ab6313ea7f"
      },
      "outputs": [
        {
          "data": {
            "text/plain": [
              "[-0.02153049386062378,\n",
              " 0.19445101782539087,\n",
              " 0.3625316201353641,\n",
              " 0.3052434214809385,\n",
              " 0.34318081228877617,\n",
              " 0.38259318405912524,\n",
              " 0.44303555569048414,\n",
              " 0.5831160195315868]"
            ]
          },
          "execution_count": 38,
          "metadata": {},
          "output_type": "execute_result"
        }
      ],
      "source": [
        "r2_3"
      ]
    },
    {
      "cell_type": "code",
      "execution_count": 39,
      "metadata": {
        "colab": {
          "base_uri": "https://localhost:8080/",
          "height": 430
        },
        "id": "Q6j31Ryo8SkH",
        "outputId": "ad96e871-2370-4b1d-9657-cc3c465c0479"
      },
      "outputs": [
        {
          "data": {
            "image/png": "[encoded data removed]",
            "text/plain": [
              "<Figure size 640x480 with 1 Axes>"
            ]
          },
          "metadata": {},
          "output_type": "display_data"
        }
      ],
      "source": [
        "import matplotlib.pyplot as plt\n",
        "plt.plot([5,6,7,8,9,10,11,12], r2_1, label = \"degree 1\")\n",
        "plt.plot([5,6,7,8,9,10,11,12], r2_2, label = \"degree 2\")\n",
        "plt.plot([5,6,7,8,9,10,11,12], r2_3, label = \"degree 3\")\n",
        "plt.legend()\n",
        "plt.show()"
      ]
    },
    {
      "cell_type": "code",
      "execution_count": 40,
      "metadata": {
        "colab": {
          "base_uri": "https://localhost:8080/",
          "height": 37
        },
        "id": "59f1oEP722Sj",
        "outputId": "c81181fe-2486-4d0b-e1dd-45cf9dab1c0c"
      },
      "outputs": [
        {
          "data": {
            "application/vnd.google.colaboratory.intrinsic+json": {
              "type": "string"
            },
            "text/plain": [
              "'\\nfor d = 1, w = 11\\nfor d = 2, w = 12\\nfor d = 3, w = 12\\n'"
            ]
          },
          "execution_count": 40,
          "metadata": {},
          "output_type": "execute_result"
        }
      ],
      "source": [
        "#Ques2\n",
        "'''\n",
        "for d = 1, w = 11\n",
        "for d = 2, w = 12\n",
        "for d = 3, w = 12\n",
        "'''"
      ]
    },
    {
      "cell_type": "code",
      "execution_count": 41,
      "metadata": {
        "id": "SlqcRTpB3WWV"
      },
      "outputs": [],
      "source": [
        "def best(prices, w, degree):\n",
        "  y_true = []\n",
        "  y_pred = []\n",
        "  for i in range(len(prices)-w):\n",
        "    x_train = [j for j in range(w)]\n",
        "    y_train = prices[i:i+w]\n",
        "    x_test = w\n",
        "    y_true.append(prices[i+w])\n",
        "  \n",
        "    weights1 = np.polyfit(x_train, y_train, degree)\n",
        "    m1 = np.poly1d(weights1)\n",
        "    y_pred.append(m1(x_test))\n",
        "  \n",
        "  r2 = r2_score(y_true, y_pred)\n",
        "  return [r2, y_pred]"
      ]
    },
    {
      "cell_type": "code",
      "execution_count": 42,
      "metadata": {
        "id": "xSBsbZC1_EH7"
      },
      "outputs": [],
      "source": [
        "#deg1\n",
        "acc1 = best(weekly_closing2, 11, 1)[0]\n",
        "ypred1 = best(weekly_closing2, 11, 1)[1]"
      ]
    },
    {
      "cell_type": "code",
      "execution_count": 43,
      "metadata": {
        "id": "rqAA06IY_IVm"
      },
      "outputs": [],
      "source": [
        "#deg2\n",
        "acc2 = best(weekly_closing2, 12, 2)[0]\n",
        "ypred2 = best(weekly_closing2, 12, 2)[1]"
      ]
    },
    {
      "cell_type": "code",
      "execution_count": 44,
      "metadata": {
        "id": "5WGic8tu_arh"
      },
      "outputs": [],
      "source": [
        "#deg3\n",
        "acc3 = best(weekly_closing2, 12, 3)[0]\n",
        "ypred3 = best(weekly_closing2, 12, 3)[1]"
      ]
    },
    {
      "cell_type": "code",
      "execution_count": 45,
      "metadata": {
        "id": "VCinpA1FBSCr"
      },
      "outputs": [],
      "source": [
        "def gen_label(prices, w, degree):\n",
        "  l = []\n",
        "  for i in range(52-w):\n",
        "    x_train = [j for j in range(w)]\n",
        "    y_train = prices[i:i+w]\n",
        "    x_test = w\n",
        "    y_test = prices[i+w]\n",
        "  \n",
        "    weights1 = np.polyfit(x_train, y_train, degree)\n",
        "    m1 = np.poly1d(weights1)\n",
        "    y_pred = m1(x_test)\n",
        "    pw = y_train[-1]\n",
        "\n",
        "    if y_pred > pw:\n",
        "      l.append('green')\n",
        "    \n",
        "    elif y_pred < pw:\n",
        "      l.append('red')\n",
        "    \n",
        "    else:\n",
        "      l.append(l[-1])\n",
        "\n",
        "  \n",
        "  return l"
      ]
    },
    {
      "cell_type": "code",
      "execution_count": 46,
      "metadata": {
        "id": "StY91tGcQMsB"
      },
      "outputs": [],
      "source": [
        "def gen_truelabel(p, w):\n",
        "  l = []\n",
        "  for i in range(52-w):\n",
        "    x_train = [j for j in range(w)]\n",
        "    y_train = p[i:i+w]\n",
        "    x_test = w\n",
        "    y_test = p[i+w]\n",
        "  \n",
        "    pw = y_train[-1]\n",
        "\n",
        "    if y_test > pw:\n",
        "      l.append('green')\n",
        "      i+=1\n",
        "    \n",
        "    elif y_test < pw:\n",
        "      l.append('red')\n",
        "      i+=1\n",
        "    \n",
        "    else:\n",
        "      l.append(l[-1])\n",
        "      i+=1\n",
        "  \n",
        "  return l"
      ]
    },
    {
      "cell_type": "code",
      "execution_count": 47,
      "metadata": {
        "id": "uI0UiQU1FK0W"
      },
      "outputs": [],
      "source": [
        "label_deg1 = gen_label(weekly_closing2, 11, 1)\n",
        "label_deg2 = gen_label(weekly_closing2, 12, 2)\n",
        "label_deg3 = gen_label(weekly_closing2, 12, 3)"
      ]
    },
    {
      "cell_type": "code",
      "execution_count": 48,
      "metadata": {
        "id": "I-28NggvFPmm"
      },
      "outputs": [],
      "source": [
        "true_w11 = gen_truelabel(weekly_closing2, 11)\n",
        "true_w12 = gen_truelabel(weekly_closing2, 12)"
      ]
    },
    {
      "cell_type": "code",
      "execution_count": 64,
      "metadata": {
        "id": "Efzb7VS57Vlt"
      },
      "outputs": [],
      "source": [
        "from sklearn.metrics import accuracy_score\n",
        "a1 = accuracy_score(true_w11, label_deg1)\n",
        "a2 = accuracy_score(true_w12, label_deg2)\n",
        "a3 = accuracy_score(true_w12, label_deg3)"
      ]
    },
    {
      "cell_type": "code",
      "execution_count": 65,
      "metadata": {
        "colab": {
          "base_uri": "https://localhost:8080/"
        },
        "id": "8-c_dux175Yc",
        "outputId": "e7e164a7-d6cb-48f1-88b4-ff943a3cff6d"
      },
      "outputs": [
        {
          "name": "stdout",
          "output_type": "stream",
          "text": [
            "0.5121951219512195 0.575 0.325\n"
          ]
        }
      ],
      "source": [
        "print(a1, a2, a3)"
      ]
    },
    {
      "cell_type": "code",
      "execution_count": 49,
      "metadata": {
        "colab": {
          "base_uri": "https://localhost:8080/"
        },
        "id": "QGb9awx8UEDK",
        "outputId": "76415c8c-5340-471f-c6bb-cc4dd06c75cb"
      },
      "outputs": [
        {
          "data": {
            "text/plain": [
              "41"
            ]
          },
          "execution_count": 49,
          "metadata": {},
          "output_type": "execute_result"
        }
      ],
      "source": [
        "len(true_w11)"
      ]
    },
    {
      "cell_type": "code",
      "execution_count": 50,
      "metadata": {
        "colab": {
          "base_uri": "https://localhost:8080/"
        },
        "id": "C1U9BXtpTJz0",
        "outputId": "aa23965e-7a41-4526-daec-1876f2490958"
      },
      "outputs": [
        {
          "data": {
            "text/plain": [
              "41"
            ]
          },
          "execution_count": 50,
          "metadata": {},
          "output_type": "execute_result"
        }
      ],
      "source": [
        "len(label_deg1)"
      ]
    },
    {
      "cell_type": "code",
      "execution_count": 51,
      "metadata": {
        "colab": {
          "base_uri": "https://localhost:8080/",
          "height": 455
        },
        "id": "8sWr5X0nQvxT",
        "outputId": "06bf724a-4a13-4d15-8caf-9d55b9961e33"
      },
      "outputs": [
        {
          "data": {
            "image/png": "[encoded data removed]",
            "text/plain": [
              "<Figure size 640x480 with 2 Axes>"
            ]
          },
          "metadata": {},
          "output_type": "display_data"
        }
      ],
      "source": [
        "from sklearn import metrics\n",
        "confusion_matrix = metrics.confusion_matrix(true_w11, label_deg1)\n",
        "cm_display = metrics.ConfusionMatrixDisplay(confusion_matrix = confusion_matrix, display_labels = [False, True])\n",
        "cm_display.plot()\n",
        "plt.show()"
      ]
    },
    {
      "cell_type": "code",
      "execution_count": 52,
      "metadata": {
        "colab": {
          "base_uri": "https://localhost:8080/",
          "height": 455
        },
        "id": "Pakj0Z23lLPZ",
        "outputId": "f4627226-36e1-4b22-b340-d76fa3c10709"
      },
      "outputs": [
        {
          "data": {
            "image/png": "[encoded data removed]",
            "text/plain": [
              "<Figure size 640x480 with 2 Axes>"
            ]
          },
          "metadata": {},
          "output_type": "display_data"
        }
      ],
      "source": [
        "confusion_matrix = metrics.confusion_matrix(true_w12, label_deg2)\n",
        "cm_display = metrics.ConfusionMatrixDisplay(confusion_matrix = confusion_matrix, display_labels = [False, True])\n",
        "cm_display.plot()\n",
        "plt.show()"
      ]
    },
    {
      "cell_type": "code",
      "execution_count": 53,
      "metadata": {
        "colab": {
          "base_uri": "https://localhost:8080/",
          "height": 449
        },
        "id": "-FqvWbKOlWFD",
        "outputId": "8a12bd79-a74e-4210-b6fe-45735e8555e8"
      },
      "outputs": [
        {
          "data": {
            "image/png": "[encoded data removed]",
            "text/plain": [
              "<Figure size 640x480 with 2 Axes>"
            ]
          },
          "metadata": {},
          "output_type": "display_data"
        }
      ],
      "source": [
        "confusion_matrix = metrics.confusion_matrix(true_w12, label_deg3)\n",
        "cm_display = metrics.ConfusionMatrixDisplay(confusion_matrix = confusion_matrix, display_labels = [False, True])\n",
        "cm_display.plot()\n",
        "plt.show()"
      ]
    },
    {
      "cell_type": "markdown",
      "metadata": {
        "id": "5Sve5oBDQwNW"
      },
      "source": [
        "#Part-3\n",
        "\n",
        "1. take years 1 and 2. For each month, compute the ”candi- date” days and decide whether there is a significant change of pricing trend in each month. Use 0.1 as critical value.\n",
        "2. how many months exhibit significant price changes for your sotck ticker.\n",
        "3. are there more ”changes” in year 1 or in year 2?"
      ]
    },
    {
      "cell_type": "code",
      "execution_count": 54,
      "metadata": {
        "id": "pOBzWeQYsUX8"
      },
      "outputs": [],
      "source": [
        "from scipy.stats import f as fisher_f"
      ]
    },
    {
      "cell_type": "code",
      "execution_count": 55,
      "metadata": {
        "id": "cBYbPld3Qv0R"
      },
      "outputs": [],
      "source": [
        "def calcSse(monthly_data):\n",
        "  x_train = [j for j in range(len(monthly_data))]\n",
        "  y_train = monthly_data\n",
        "\n",
        "  weights1 = np.polyfit(x_train, y_train, 1)\n",
        "  m1 = np.poly1d(weights1)\n",
        "  y_pred = m1(x_train)\n",
        "\n",
        "  rmse = np.sqrt(mean_squared_error(y_train, y_pred))\n",
        "  sse = (rmse**2)*len(y_train)\n",
        "  return sse"
      ]
    },
    {
      "cell_type": "code",
      "execution_count": 56,
      "metadata": {
        "id": "6EPLnbL1lxle"
      },
      "outputs": [],
      "source": [
        "d1 = []\n",
        "x = []\n",
        "for i in range(1, len(data1)):\n",
        "  if data1['Month'][i-1] == data1['Month'][i]:\n",
        "    x.append(data1['Adj Close'][i-1])\n",
        "    if i == len(data1)-1:\n",
        "      d1.append(x)\n",
        "  else:\n",
        "    x.append(data1['Adj Close'][i-1])\n",
        "    d1.append(x)\n",
        "    x = []"
      ]
    },
    {
      "cell_type": "code",
      "execution_count": 57,
      "metadata": {
        "id": "t0qOgvC7m2Iu"
      },
      "outputs": [],
      "source": [
        "d2 = []\n",
        "x = []\n",
        "for i in range(1, len(data2)):\n",
        "  if data2['Month'][i-1] == data2['Month'][i]:\n",
        "    x.append(data2['Adj Close'][i-1])\n",
        "    if i == len(data2)-1:\n",
        "      d2.append(x)\n",
        "  else:\n",
        "    x.append(data2['Adj Close'][i-1])\n",
        "    d2.append(x)\n",
        "    x = [] "
      ]
    },
    {
      "cell_type": "code",
      "execution_count": 58,
      "metadata": {
        "id": "9e-1VmzkQ1ig"
      },
      "outputs": [],
      "source": [
        "def candidate(x):\n",
        "  min_k = 0\n",
        "  sse = calcSse(x)\n",
        "  min_sse = 10000000000\n",
        "  l1 = l2 = 1000000000\n",
        "\n",
        "  for i in range(2,len(x)-2):\n",
        "    k = i\n",
        "    part1 = x[:k]\n",
        "    part2 = x[k:]\n",
        "    s1 = calcSse(part1)\n",
        "    s2 = calcSse(part2)\n",
        "    if s1+s2 < min_sse:\n",
        "      min_sse = s1+s2\n",
        "      min_k = k\n",
        "      l1 = s1\n",
        "      l2 = s2\n",
        "  \n",
        "  f = ((sse - (l1+l2))*(12-4))/(l1+l2)\n",
        "  p_value = fisher_f.cdf(f , 2, 8)\n",
        "  if p_value > 0.1:\n",
        "    return min_k\n",
        "  else:\n",
        "    return 0\n",
        "\n",
        "  \n"
      ]
    },
    {
      "cell_type": "code",
      "execution_count": 59,
      "metadata": {
        "id": "tNmkY_FWpqws"
      },
      "outputs": [],
      "source": [
        "k1 = []\n",
        "k2 = []\n",
        "for i in range(len(d1)):\n",
        "  x = d1[i]\n",
        "  k1.append(candidate(x))\n",
        "for j in range(len(d2)):\n",
        "  y = d2[i]\n",
        "  k2.append(candidate(y))"
      ]
    },
    {
      "cell_type": "code",
      "execution_count": 60,
      "metadata": {
        "colab": {
          "base_uri": "https://localhost:8080/"
        },
        "id": "tNhlnsjJqyGO",
        "outputId": "e38c765c-3e7e-431b-a909-242f8a48b3eb"
      },
      "outputs": [
        {
          "data": {
            "text/plain": [
              "[5, 8, 11, 13, 4, 19, 9, 15, 13, 9, 15, 13]"
            ]
          },
          "execution_count": 60,
          "metadata": {},
          "output_type": "execute_result"
        }
      ],
      "source": [
        "k1"
      ]
    },
    {
      "cell_type": "code",
      "execution_count": 61,
      "metadata": {
        "colab": {
          "base_uri": "https://localhost:8080/"
        },
        "id": "BADWGk4RrxBs",
        "outputId": "9f10788a-e276-4790-9450-99ad4c2e4c93"
      },
      "outputs": [
        {
          "data": {
            "text/plain": [
              "[16, 16, 16, 16, 16, 16, 16, 16, 16, 16, 16, 16]"
            ]
          },
          "execution_count": 61,
          "metadata": {},
          "output_type": "execute_result"
        }
      ],
      "source": [
        "k2"
      ]
    },
    {
      "cell_type": "code",
      "execution_count": 62,
      "metadata": {
        "colab": {
          "base_uri": "https://localhost:8080/"
        },
        "id": "B_16bebIryjT",
        "outputId": "4dd6fd61-6e8d-408b-fc03-daa572da4819"
      },
      "outputs": [
        {
          "data": {
            "text/plain": [
              "12"
            ]
          },
          "execution_count": 62,
          "metadata": {},
          "output_type": "execute_result"
        }
      ],
      "source": [
        "len(d1)"
      ]
    },
    {
      "cell_type": "code",
      "execution_count": 62,
      "metadata": {
        "id": "yklIAx6YzCzJ"
      },
      "outputs": [],
      "source": []
    }
  ],
  "metadata": {
    "colab": {
      "provenance": []
    },
    "kernelspec": {
      "display_name": "Python 3",
      "name": "python3"
    },
    "language_info": {
      "name": "python"
    }
  },
  "nbformat": 4,
  "nbformat_minor": 0
}
